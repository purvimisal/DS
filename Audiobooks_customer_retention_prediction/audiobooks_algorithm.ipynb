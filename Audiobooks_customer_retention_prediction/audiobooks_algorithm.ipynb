{
 "cells": [
  {
   "cell_type": "markdown",
   "metadata": {},
   "source": [
    "## Creating the ML algorithm"
   ]
  },
  {
   "cell_type": "markdown",
   "metadata": {},
   "source": [
    "#### Importing the relevant libraries"
   ]
  },
  {
   "cell_type": "code",
   "execution_count": 3,
   "metadata": {},
   "outputs": [],
   "source": [
    "import numpy as np\n",
    "import tensorflow as tf"
   ]
  },
  {
   "cell_type": "markdown",
   "metadata": {},
   "source": [
    "### Data"
   ]
  },
  {
   "cell_type": "code",
   "execution_count": 9,
   "metadata": {},
   "outputs": [],
   "source": [
    "npz = np.load('Audiobooks_data_train.npz')\n",
    "\n",
    "train_inputs = npz['inputs'].astype(np.float)\n",
    "train_targets = npz['targets'].astype(np.int)\n",
    "\n",
    "npz = np.load('Audiobooks_validation.npz')\n",
    "validation_inputs, validation_targets = npz['inputs'].astype(np.float), npz['targets'].astype(np.int)\n",
    "\n",
    "npz = np.load('Audiobooks_test.npz')\n",
    "test_inputs, test_targets = npz['inputs'].astype(np.float), npz['targets'].astype(np.int)"
   ]
  },
  {
   "cell_type": "markdown",
   "metadata": {},
   "source": [
    "### Model\n",
    "Outline, optimizers, loss, early stopping and training"
   ]
  },
  {
   "cell_type": "code",
   "execution_count": 30,
   "metadata": {},
   "outputs": [
    {
     "name": "stdout",
     "output_type": "stream",
     "text": [
      "Train on 3579 samples, validate on 447 samples\n",
      "Epoch 1/100\n",
      "3579/3579 - 1s - loss: 0.6165 - accuracy: 0.6734 - val_loss: 0.5100 - val_accuracy: 0.7562\n",
      "Epoch 2/100\n",
      "3579/3579 - 0s - loss: 0.4705 - accuracy: 0.7547 - val_loss: 0.4387 - val_accuracy: 0.7606\n",
      "Epoch 3/100\n",
      "3579/3579 - 0s - loss: 0.4133 - accuracy: 0.7930 - val_loss: 0.4084 - val_accuracy: 0.7919\n",
      "Epoch 4/100\n",
      "3579/3579 - 0s - loss: 0.3858 - accuracy: 0.8030 - val_loss: 0.3957 - val_accuracy: 0.7875\n",
      "Epoch 5/100\n",
      "3579/3579 - 0s - loss: 0.3706 - accuracy: 0.8053 - val_loss: 0.3816 - val_accuracy: 0.7763\n",
      "Epoch 6/100\n",
      "3579/3579 - 0s - loss: 0.3579 - accuracy: 0.8142 - val_loss: 0.3739 - val_accuracy: 0.7808\n",
      "Epoch 7/100\n",
      "3579/3579 - 0s - loss: 0.3534 - accuracy: 0.8083 - val_loss: 0.3779 - val_accuracy: 0.7964\n",
      "Epoch 8/100\n",
      "3579/3579 - 0s - loss: 0.3461 - accuracy: 0.8153 - val_loss: 0.3707 - val_accuracy: 0.7919\n",
      "Epoch 9/100\n",
      "3579/3579 - 0s - loss: 0.3433 - accuracy: 0.8175 - val_loss: 0.3715 - val_accuracy: 0.7808\n",
      "Epoch 10/100\n",
      "3579/3579 - 0s - loss: 0.3423 - accuracy: 0.8187 - val_loss: 0.3678 - val_accuracy: 0.8009\n",
      "Epoch 11/100\n",
      "3579/3579 - 0s - loss: 0.3374 - accuracy: 0.8198 - val_loss: 0.3678 - val_accuracy: 0.7987\n",
      "Epoch 12/100\n",
      "3579/3579 - 0s - loss: 0.3381 - accuracy: 0.8206 - val_loss: 0.3616 - val_accuracy: 0.8031\n",
      "Epoch 13/100\n",
      "3579/3579 - 0s - loss: 0.3334 - accuracy: 0.8217 - val_loss: 0.3579 - val_accuracy: 0.8076\n",
      "Epoch 14/100\n",
      "3579/3579 - 0s - loss: 0.3304 - accuracy: 0.8256 - val_loss: 0.3596 - val_accuracy: 0.8076\n",
      "Epoch 15/100\n",
      "3579/3579 - 0s - loss: 0.3287 - accuracy: 0.8201 - val_loss: 0.3567 - val_accuracy: 0.8076\n",
      "Epoch 16/100\n",
      "3579/3579 - 0s - loss: 0.3274 - accuracy: 0.8237 - val_loss: 0.3508 - val_accuracy: 0.8098\n",
      "Epoch 17/100\n",
      "3579/3579 - 0s - loss: 0.3268 - accuracy: 0.8189 - val_loss: 0.3440 - val_accuracy: 0.8054\n",
      "Epoch 18/100\n",
      "3579/3579 - 0s - loss: 0.3235 - accuracy: 0.8268 - val_loss: 0.3526 - val_accuracy: 0.8143\n",
      "Epoch 19/100\n",
      "3579/3579 - 0s - loss: 0.3247 - accuracy: 0.8245 - val_loss: 0.3459 - val_accuracy: 0.8121\n"
     ]
    },
    {
     "data": {
      "text/plain": [
       "<tensorflow.python.keras.callbacks.History at 0x7f1048402748>"
      ]
     },
     "execution_count": 30,
     "metadata": {},
     "output_type": "execute_result"
    }
   ],
   "source": [
    "input_size = 10\n",
    "output_size = 2\n",
    "hidden_layer_size = 50\n",
    "    \n",
    "model = tf.keras.Sequential([\n",
    "    tf.keras.layers.Dense(hidden_layer_size, activation='relu'), # 1st hidden layer\n",
    "    tf.keras.layers.Dense(hidden_layer_size, activation='relu'), # 2nd hidden layer\n",
    "    tf.keras.layers.Dense(output_size, activation='softmax') # output layer\n",
    "])\n",
    "\n",
    "\n",
    "model.compile(optimizer='adam', loss='sparse_categorical_crossentropy', metrics=['accuracy'])\n",
    "\n",
    "batch_size = 100\n",
    "max_epochs = 100\n",
    "\n",
    "# set an early stopping mechanism\n",
    "# let's set patience=2, to be a bit tolerant against random validation loss increases\n",
    "early_stopping = tf.keras.callbacks.EarlyStopping(patience=2)\n",
    "\n",
    "model.fit(train_inputs, \n",
    "          train_targets, \n",
    "          batch_size=batch_size, \n",
    "          epochs=max_epochs,\n",
    "          callbacks=[early_stopping], \n",
    "          validation_data=(validation_inputs, validation_targets),\n",
    "          verbose = 2 \n",
    "          )  "
   ]
  },
  {
   "cell_type": "markdown",
   "metadata": {},
   "source": [
    "### Testing the model\n"
   ]
  },
  {
   "cell_type": "code",
   "execution_count": 31,
   "metadata": {},
   "outputs": [
    {
     "name": "stdout",
     "output_type": "stream",
     "text": [
      "448/448 [==============================] - 0s 239us/sample - loss: 0.3398 - accuracy: 0.8192\n"
     ]
    }
   ],
   "source": [
    "test_loss, test_accuracy = model.evaluate(test_inputs, test_targets)"
   ]
  },
  {
   "cell_type": "code",
   "execution_count": 32,
   "metadata": {},
   "outputs": [
    {
     "name": "stdout",
     "output_type": "stream",
     "text": [
      "\n",
      "Test loss: 0.34. Test accuracy: 81.92%\n"
     ]
    }
   ],
   "source": [
    "print('\\nTest loss: {0:.2f}. Test accuracy: {1:.2f}%'.format(test_loss, test_accuracy*100.))"
   ]
  },
  {
   "cell_type": "code",
   "execution_count": null,
   "metadata": {},
   "outputs": [],
   "source": []
  },
  {
   "cell_type": "code",
   "execution_count": null,
   "metadata": {},
   "outputs": [],
   "source": []
  }
 ],
 "metadata": {
  "kernelspec": {
   "display_name": "Python 3",
   "language": "python",
   "name": "python3"
  },
  "language_info": {
   "codemirror_mode": {
    "name": "ipython",
    "version": 3
   },
   "file_extension": ".py",
   "mimetype": "text/x-python",
   "name": "python",
   "nbconvert_exporter": "python",
   "pygments_lexer": "ipython3",
   "version": "3.6.10"
  }
 },
 "nbformat": 4,
 "nbformat_minor": 2
}
