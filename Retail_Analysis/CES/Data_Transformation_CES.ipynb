{
 "cells": [
  {
   "cell_type": "markdown",
   "metadata": {
    "colab_type": "text",
    "id": "XyHyZ9ZfVyjG"
   },
   "source": [
    "## CES Data Preprocessing"
   ]
  },
  {
   "cell_type": "markdown",
   "metadata": {
    "colab_type": "text",
    "id": "oGxO07nGV3jJ"
   },
   "source": [
    "CES dataset contains observations from a survey `Consumer Expenditure Survey` conducted by a Brazilian Institute in 1947.\n",
    "\n",
    "The data is in the following format:\n",
    "\n",
    "`transactionID`, `value`\n",
    "\n",
    "**TransactionID** : Represents a single family.\n",
    "\n",
    "Value can be `City`, `Income`, `Members in family` or `Product Items`\n",
    "\n",
    "Eg of a single record:\n",
    "\n",
    "|  transactionID | value  |\n",
    "|---|---|\n",
    "| 400071  |  City_Curitiba |\n",
    "| 400071  |  Income_above_43  |\n",
    "| 400071  |  Members_5  |\n",
    "| 400071  |  banana  |\n",
    "| 400071  |  black_beans  |\n",
    "| 400071  |  potato  |\n",
    "\n",
    "\n",
    "This script transforms the above data to the following format for further analysis.\n",
    "\n",
    "|  transactionID | city  | income| members | description|\n",
    "|---|---|---|---|---|\n",
    "| 400071  |  Curitiba | above_43 | 5 | banana |\n",
    "| 400071  |  Curitiba | above_43 | 5 | black_beans |\n",
    "| 400071  |  Curitiba | above_43 | 5 | potato |\n",
    "\n",
    "\n",
    "For more details, please refer the [`CES DATASET FOR ASSOCIATION RULES.pdf`](https://github.com/alokg1019/DataMining_Team1/blob/master/data/CES/CES%20DATASET%20FOR%20ASSOCIATION%20RULES.pdf) file in `data/CES` folder."
   ]
  },
  {
   "cell_type": "code",
   "execution_count": 3,
   "metadata": {
    "colab": {
     "base_uri": "https://localhost:8080/",
     "height": 34
    },
    "colab_type": "code",
    "executionInfo": {
     "elapsed": 637,
     "status": "ok",
     "timestamp": 1589362923912,
     "user": {
      "displayName": "Purvi Misal",
      "photoUrl": "",
      "userId": "02221442995930656753"
     },
     "user_tz": 420
    },
    "id": "Jjvrp6RYVxzh",
    "outputId": "3e31654d-2127-4e71-c51e-9acbf4cbdba0"
   },
   "outputs": [
    {
     "name": "stdout",
     "output_type": "stream",
     "text": [
      "Done\n"
     ]
    }
   ],
   "source": [
    "import csv\n",
    "all_dict = {}\n",
    "\n",
    "# Ensure correct Path to data file\n",
    "# File: data/CES/ces_hybrid.csv\n",
    "DATA_PATH = \"/content/ces_hybrid.csv\"\n",
    "with open(DATA_PATH) as f:\n",
    "    cf = csv.reader(f)\n",
    "    for row in cf:\n",
    "        if row[0] not in all_dict:\n",
    "            all_dict[row[0]] = [row[0], row[1]]\n",
    "        else:\n",
    "            all_dict[row[0]].append(row[1])\n",
    "\n",
    "# Enter output path        \n",
    "OUTPUT_PATH = \"preprocessed_ces_hybrid.csv\"\n",
    "with open(OUTPUT_PATH, mode='w') as csv_file:\n",
    "    fieldnames = ['id', 'city', 'income', 'members', 'description']\n",
    "    writer = csv.DictWriter(csv_file, fieldnames=fieldnames)\n",
    "\n",
    "    writer.writeheader()\n",
    "    \n",
    "    for k,v in all_dict.items():\n",
    "        temp_row = {'id': v[0], 'city': v[1].replace(\"City_\", \"\"), 'income': v[2].replace(\"Income_\", \"\"), 'members': v[3].replace(\"Members_\", \"\")}\n",
    "        for index, i in enumerate(v):\n",
    "            if index > 3:\n",
    "                temp_row['description'] = i\n",
    "                writer.writerow(temp_row)\n",
    "                \n",
    "print(\"Done\")"
   ]
  },
  {
   "cell_type": "code",
   "execution_count": 0,
   "metadata": {
    "colab": {},
    "colab_type": "code",
    "id": "EXjcd3VuVxzn"
   },
   "outputs": [],
   "source": []
  }
 ],
 "metadata": {
  "colab": {
   "collapsed_sections": [],
   "name": "Data_Transformation.ipynb",
   "provenance": []
  },
  "kernelspec": {
   "display_name": "macbook",
   "language": "python",
   "name": "macbook"
  },
  "language_info": {
   "codemirror_mode": {
    "name": "ipython",
    "version": 3
   },
   "file_extension": ".py",
   "mimetype": "text/x-python",
   "name": "python",
   "nbconvert_exporter": "python",
   "pygments_lexer": "ipython3",
   "version": "3.7.4"
  }
 },
 "nbformat": 4,
 "nbformat_minor": 1
}
