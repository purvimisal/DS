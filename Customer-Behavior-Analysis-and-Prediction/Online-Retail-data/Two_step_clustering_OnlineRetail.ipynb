{
 "cells": [
  {
   "cell_type": "code",
   "execution_count": 0,
   "metadata": {
    "colab": {},
    "colab_type": "code",
    "id": "5lwI5BBchUnB"
   },
   "outputs": [],
   "source": [
    "import numpy as np \n",
    "import pandas as pd \n",
    "import matplotlib.pyplot as plt"
   ]
  },
  {
   "cell_type": "code",
   "execution_count": 0,
   "metadata": {
    "colab": {
     "base_uri": "https://localhost:8080/",
     "height": 538
    },
    "colab_type": "code",
    "id": "GR68Y1OKiDe8",
    "outputId": "47999382-7b0a-4d28-9ff0-7cf6199c2d3b"
   },
   "outputs": [
    {
     "data": {
      "text/html": [
       "<div>\n",
       "<style scoped>\n",
       "    .dataframe tbody tr th:only-of-type {\n",
       "        vertical-align: middle;\n",
       "    }\n",
       "\n",
       "    .dataframe tbody tr th {\n",
       "        vertical-align: top;\n",
       "    }\n",
       "\n",
       "    .dataframe thead th {\n",
       "        text-align: right;\n",
       "    }\n",
       "</style>\n",
       "<table border=\"1\" class=\"dataframe\">\n",
       "  <thead>\n",
       "    <tr style=\"text-align: right;\">\n",
       "      <th></th>\n",
       "      <th>Unnamed: 0</th>\n",
       "      <th>Invoice</th>\n",
       "      <th>StockCode</th>\n",
       "      <th>Description</th>\n",
       "      <th>Quantity</th>\n",
       "      <th>InvoiceDate</th>\n",
       "      <th>Price</th>\n",
       "      <th>Customer ID</th>\n",
       "      <th>Country</th>\n",
       "    </tr>\n",
       "  </thead>\n",
       "  <tbody>\n",
       "    <tr>\n",
       "      <th>0</th>\n",
       "      <td>0</td>\n",
       "      <td>489434</td>\n",
       "      <td>85048</td>\n",
       "      <td>15CM CHRISTMAS GLASS BALL 20 LIGHTS</td>\n",
       "      <td>12</td>\n",
       "      <td>2009-12-01 07:45:00</td>\n",
       "      <td>6.95</td>\n",
       "      <td>13085.0</td>\n",
       "      <td>United Kingdom</td>\n",
       "    </tr>\n",
       "    <tr>\n",
       "      <th>1</th>\n",
       "      <td>1</td>\n",
       "      <td>489434</td>\n",
       "      <td>79323P</td>\n",
       "      <td>PINK CHERRY LIGHTS</td>\n",
       "      <td>12</td>\n",
       "      <td>2009-12-01 07:45:00</td>\n",
       "      <td>6.75</td>\n",
       "      <td>13085.0</td>\n",
       "      <td>United Kingdom</td>\n",
       "    </tr>\n",
       "    <tr>\n",
       "      <th>2</th>\n",
       "      <td>2</td>\n",
       "      <td>489434</td>\n",
       "      <td>79323W</td>\n",
       "      <td>WHITE CHERRY LIGHTS</td>\n",
       "      <td>12</td>\n",
       "      <td>2009-12-01 07:45:00</td>\n",
       "      <td>6.75</td>\n",
       "      <td>13085.0</td>\n",
       "      <td>United Kingdom</td>\n",
       "    </tr>\n",
       "    <tr>\n",
       "      <th>3</th>\n",
       "      <td>3</td>\n",
       "      <td>489434</td>\n",
       "      <td>22041</td>\n",
       "      <td>RECORD FRAME 7\" SINGLE SIZE</td>\n",
       "      <td>48</td>\n",
       "      <td>2009-12-01 07:45:00</td>\n",
       "      <td>2.10</td>\n",
       "      <td>13085.0</td>\n",
       "      <td>United Kingdom</td>\n",
       "    </tr>\n",
       "    <tr>\n",
       "      <th>4</th>\n",
       "      <td>4</td>\n",
       "      <td>489434</td>\n",
       "      <td>21232</td>\n",
       "      <td>STRAWBERRY CERAMIC TRINKET BOX</td>\n",
       "      <td>24</td>\n",
       "      <td>2009-12-01 07:45:00</td>\n",
       "      <td>1.25</td>\n",
       "      <td>13085.0</td>\n",
       "      <td>United Kingdom</td>\n",
       "    </tr>\n",
       "    <tr>\n",
       "      <th>5</th>\n",
       "      <td>5</td>\n",
       "      <td>489434</td>\n",
       "      <td>22064</td>\n",
       "      <td>PINK DOUGHNUT TRINKET POT</td>\n",
       "      <td>24</td>\n",
       "      <td>2009-12-01 07:45:00</td>\n",
       "      <td>1.65</td>\n",
       "      <td>13085.0</td>\n",
       "      <td>United Kingdom</td>\n",
       "    </tr>\n",
       "    <tr>\n",
       "      <th>6</th>\n",
       "      <td>6</td>\n",
       "      <td>489434</td>\n",
       "      <td>21871</td>\n",
       "      <td>SAVE THE PLANET MUG</td>\n",
       "      <td>24</td>\n",
       "      <td>2009-12-01 07:45:00</td>\n",
       "      <td>1.25</td>\n",
       "      <td>13085.0</td>\n",
       "      <td>United Kingdom</td>\n",
       "    </tr>\n",
       "    <tr>\n",
       "      <th>7</th>\n",
       "      <td>7</td>\n",
       "      <td>489434</td>\n",
       "      <td>21523</td>\n",
       "      <td>FANCY FONT HOME SWEET HOME DOORMAT</td>\n",
       "      <td>10</td>\n",
       "      <td>2009-12-01 07:45:00</td>\n",
       "      <td>5.95</td>\n",
       "      <td>13085.0</td>\n",
       "      <td>United Kingdom</td>\n",
       "    </tr>\n",
       "    <tr>\n",
       "      <th>8</th>\n",
       "      <td>8</td>\n",
       "      <td>489435</td>\n",
       "      <td>22350</td>\n",
       "      <td>CAT BOWL</td>\n",
       "      <td>12</td>\n",
       "      <td>2009-12-01 07:46:00</td>\n",
       "      <td>2.55</td>\n",
       "      <td>13085.0</td>\n",
       "      <td>United Kingdom</td>\n",
       "    </tr>\n",
       "    <tr>\n",
       "      <th>9</th>\n",
       "      <td>9</td>\n",
       "      <td>489435</td>\n",
       "      <td>22349</td>\n",
       "      <td>DOG BOWL , CHASING BALL DESIGN</td>\n",
       "      <td>12</td>\n",
       "      <td>2009-12-01 07:46:00</td>\n",
       "      <td>3.75</td>\n",
       "      <td>13085.0</td>\n",
       "      <td>United Kingdom</td>\n",
       "    </tr>\n",
       "  </tbody>\n",
       "</table>\n",
       "</div>"
      ],
      "text/plain": [
       "   Unnamed: 0  Invoice StockCode  ... Price  Customer ID         Country\n",
       "0           0   489434     85048  ...  6.95      13085.0  United Kingdom\n",
       "1           1   489434    79323P  ...  6.75      13085.0  United Kingdom\n",
       "2           2   489434    79323W  ...  6.75      13085.0  United Kingdom\n",
       "3           3   489434     22041  ...  2.10      13085.0  United Kingdom\n",
       "4           4   489434     21232  ...  1.25      13085.0  United Kingdom\n",
       "5           5   489434     22064  ...  1.65      13085.0  United Kingdom\n",
       "6           6   489434     21871  ...  1.25      13085.0  United Kingdom\n",
       "7           7   489434     21523  ...  5.95      13085.0  United Kingdom\n",
       "8           8   489435     22350  ...  2.55      13085.0  United Kingdom\n",
       "9           9   489435     22349  ...  3.75      13085.0  United Kingdom\n",
       "\n",
       "[10 rows x 9 columns]"
      ]
     },
     "execution_count": 3,
     "metadata": {
      "tags": []
     },
     "output_type": "execute_result"
    }
   ],
   "source": [
    "# Path to file filtered_data.csv\n",
    "DATA_PATH=\"/content/filtered_data.csv\"\n",
    "data = pd.read_csv(DATA_PATH) ;\n",
    "data.head(10)"
   ]
  },
  {
   "cell_type": "code",
   "execution_count": 0,
   "metadata": {
    "colab": {},
    "colab_type": "code",
    "id": "RaoQiS1FiVXg"
   },
   "outputs": [],
   "source": [
    "new_data =data.groupby(['Invoice', 'Description'])['Quantity'].sum().unstack().reset_index().fillna(0).set_index('Invoice')"
   ]
  },
  {
   "cell_type": "code",
   "execution_count": 0,
   "metadata": {
    "colab": {
     "base_uri": "https://localhost:8080/",
     "height": 35
    },
    "colab_type": "code",
    "id": "V6L4MUDZnex_",
    "outputId": "87354606-d2b6-48a1-c8dd-0a5fdfc6d018"
   },
   "outputs": [
    {
     "data": {
      "text/plain": [
       "(19213, 4444)"
      ]
     },
     "execution_count": 5,
     "metadata": {
      "tags": []
     },
     "output_type": "execute_result"
    }
   ],
   "source": [
    "new_data.shape"
   ]
  },
  {
   "cell_type": "markdown",
   "metadata": {
    "colab_type": "text",
    "id": "whebuilynuCh"
   },
   "source": [
    "### Performing Heirarachical Clustering to evaluate the best number of cluster possible based on above grouped data (Below tab code take a considerable time to compute.)"
   ]
  },
  {
   "cell_type": "code",
   "execution_count": 0,
   "metadata": {
    "colab": {},
    "colab_type": "code",
    "id": "wxMLudxHjQ-g"
   },
   "outputs": [],
   "source": [
    "from scipy.cluster.hierarchy import dendrogram\n",
    "from sklearn.cluster import AgglomerativeClustering\n",
    "\n",
    "def plot_dendrogram(model, **kwargs):\n",
    "    # Create linkage matrix and then plot the dendrogram\n",
    "\n",
    "    # create the counts of samples under each node\n",
    "    counts = np.zeros(model.children_.shape[0])\n",
    "    n_samples = len(model.labels_)\n",
    "    for i, merge in enumerate(model.children_):\n",
    "        current_count = 0\n",
    "        for child_idx in merge:\n",
    "            if child_idx < n_samples:\n",
    "                current_count += 1  # leaf node\n",
    "            else:\n",
    "                current_count += counts[child_idx - n_samples]\n",
    "        counts[i] = current_count\n",
    "\n",
    "    linkage_matrix = np.column_stack([model.children_, model.distances_,\n",
    "                                      counts]).astype(float)\n",
    "\n",
    "    \n",
    "    dend = dendrogram(linkage_matrix, **kwargs)\n",
    "    return dend\n",
    "X = np.array(new_data)\n",
    "# setting distance_threshold=0 ensures we compute the full tree.\n",
    "model = AgglomerativeClustering(distance_threshold=0, n_clusters=None)\n",
    "model = model.fit(X)\n"
   ]
  },
  {
   "cell_type": "code",
   "execution_count": 0,
   "metadata": {
    "colab": {
     "base_uri": "https://localhost:8080/",
     "height": 621
    },
    "colab_type": "code",
    "id": "CIODXJ6mpFXC",
    "outputId": "01034888-f385-4878-97c3-748764ea22de"
   },
   "outputs": [
    {
     "data": {
      "image/png": "[encoded data removed]",
      "text/plain": [
       "<Figure size 720x720 with 1 Axes>"
      ]
     },
     "metadata": {
      "needs_background": "light",
      "tags": []
     },
     "output_type": "display_data"
    }
   ],
   "source": [
    "plt.figure(figsize=(10,10))\n",
    "plt.title('Hierarchical Clustering Dendrogram')\n",
    "# plot the top levels of the dendrogram\n",
    "dend = plot_dendrogram(model, truncate_mode='level',p=8,leaf_font_size=8, get_leaves=True) #p is the number of levels\n",
    "plt.xlabel(\"Number of points in node\")\n",
    "plt.axhline(y=17000, color='g', linestyle='--')\n",
    "plt.show()"
   ]
  },
  {
   "cell_type": "markdown",
   "metadata": {
    "colab_type": "text",
    "id": "kLHymM1urlj0"
   },
   "source": [
    "For only 19000 rows , Heirarchical clustering takes a much longer time to fit the data. \n",
    "In the later part of the notebook we will be applying clustering on more than 4 lakh rows of data using two phase clustering.\n"
   ]
  },
  {
   "cell_type": "markdown",
   "metadata": {
    "colab_type": "text",
    "id": "MUllH50stZZY"
   },
   "source": [
    "Here we can clearly visualize the above dendogram that the number of cluster should be 7 for this dataset. (The line is cutting 7 vertical lines ).\n"
   ]
  },
  {
   "cell_type": "code",
   "execution_count": 0,
   "metadata": {
    "colab": {},
    "colab_type": "code",
    "id": "F9Fd1xp2BYU3"
   },
   "outputs": [],
   "source": [
    "# Dropping the features likie Invoice, StockCode and InvoiceDate\n",
    "exp_data=data.drop(columns=['Invoice','StockCode','InvoiceDate'],axis=1)"
   ]
  },
  {
   "cell_type": "code",
   "execution_count": 0,
   "metadata": {
    "colab": {
     "base_uri": "https://localhost:8080/",
     "height": 407
    },
    "colab_type": "code",
    "id": "J-n-fhYiBoxd",
    "outputId": "07cbe65c-d995-4490-c93d-e844b3913186"
   },
   "outputs": [
    {
     "data": {
      "text/html": [
       "<div>\n",
       "<style scoped>\n",
       "    .dataframe tbody tr th:only-of-type {\n",
       "        vertical-align: middle;\n",
       "    }\n",
       "\n",
       "    .dataframe tbody tr th {\n",
       "        vertical-align: top;\n",
       "    }\n",
       "\n",
       "    .dataframe thead th {\n",
       "        text-align: right;\n",
       "    }\n",
       "</style>\n",
       "<table border=\"1\" class=\"dataframe\">\n",
       "  <thead>\n",
       "    <tr style=\"text-align: right;\">\n",
       "      <th></th>\n",
       "      <th>Unnamed: 0</th>\n",
       "      <th>Description</th>\n",
       "      <th>Quantity</th>\n",
       "      <th>Price</th>\n",
       "      <th>Customer ID</th>\n",
       "      <th>Country</th>\n",
       "    </tr>\n",
       "  </thead>\n",
       "  <tbody>\n",
       "    <tr>\n",
       "      <th>0</th>\n",
       "      <td>0</td>\n",
       "      <td>15CM CHRISTMAS GLASS BALL 20 LIGHTS</td>\n",
       "      <td>12</td>\n",
       "      <td>6.95</td>\n",
       "      <td>13085.0</td>\n",
       "      <td>United Kingdom</td>\n",
       "    </tr>\n",
       "    <tr>\n",
       "      <th>1</th>\n",
       "      <td>1</td>\n",
       "      <td>PINK CHERRY LIGHTS</td>\n",
       "      <td>12</td>\n",
       "      <td>6.75</td>\n",
       "      <td>13085.0</td>\n",
       "      <td>United Kingdom</td>\n",
       "    </tr>\n",
       "    <tr>\n",
       "      <th>2</th>\n",
       "      <td>2</td>\n",
       "      <td>WHITE CHERRY LIGHTS</td>\n",
       "      <td>12</td>\n",
       "      <td>6.75</td>\n",
       "      <td>13085.0</td>\n",
       "      <td>United Kingdom</td>\n",
       "    </tr>\n",
       "    <tr>\n",
       "      <th>3</th>\n",
       "      <td>3</td>\n",
       "      <td>RECORD FRAME 7\" SINGLE SIZE</td>\n",
       "      <td>48</td>\n",
       "      <td>2.10</td>\n",
       "      <td>13085.0</td>\n",
       "      <td>United Kingdom</td>\n",
       "    </tr>\n",
       "    <tr>\n",
       "      <th>4</th>\n",
       "      <td>4</td>\n",
       "      <td>STRAWBERRY CERAMIC TRINKET BOX</td>\n",
       "      <td>24</td>\n",
       "      <td>1.25</td>\n",
       "      <td>13085.0</td>\n",
       "      <td>United Kingdom</td>\n",
       "    </tr>\n",
       "    <tr>\n",
       "      <th>...</th>\n",
       "      <td>...</td>\n",
       "      <td>...</td>\n",
       "      <td>...</td>\n",
       "      <td>...</td>\n",
       "      <td>...</td>\n",
       "      <td>...</td>\n",
       "    </tr>\n",
       "    <tr>\n",
       "      <th>400911</th>\n",
       "      <td>525456</td>\n",
       "      <td>FELTCRAFT DOLL ROSIE</td>\n",
       "      <td>2</td>\n",
       "      <td>2.95</td>\n",
       "      <td>17530.0</td>\n",
       "      <td>United Kingdom</td>\n",
       "    </tr>\n",
       "    <tr>\n",
       "      <th>400912</th>\n",
       "      <td>525457</td>\n",
       "      <td>FELTCRAFT PRINCESS LOLA DOLL</td>\n",
       "      <td>1</td>\n",
       "      <td>3.75</td>\n",
       "      <td>17530.0</td>\n",
       "      <td>United Kingdom</td>\n",
       "    </tr>\n",
       "    <tr>\n",
       "      <th>400913</th>\n",
       "      <td>525458</td>\n",
       "      <td>FELTCRAFT PRINCESS OLIVIA DOLL</td>\n",
       "      <td>1</td>\n",
       "      <td>3.75</td>\n",
       "      <td>17530.0</td>\n",
       "      <td>United Kingdom</td>\n",
       "    </tr>\n",
       "    <tr>\n",
       "      <th>400914</th>\n",
       "      <td>525459</td>\n",
       "      <td>PINK FLORAL FELTCRAFT SHOULDER BAG</td>\n",
       "      <td>2</td>\n",
       "      <td>3.75</td>\n",
       "      <td>17530.0</td>\n",
       "      <td>United Kingdom</td>\n",
       "    </tr>\n",
       "    <tr>\n",
       "      <th>400915</th>\n",
       "      <td>525460</td>\n",
       "      <td>JUMBO STORAGE BAG SUKI</td>\n",
       "      <td>2</td>\n",
       "      <td>1.95</td>\n",
       "      <td>17530.0</td>\n",
       "      <td>United Kingdom</td>\n",
       "    </tr>\n",
       "  </tbody>\n",
       "</table>\n",
       "<p>400916 rows × 6 columns</p>\n",
       "</div>"
      ],
      "text/plain": [
       "        Unnamed: 0  ...         Country\n",
       "0                0  ...  United Kingdom\n",
       "1                1  ...  United Kingdom\n",
       "2                2  ...  United Kingdom\n",
       "3                3  ...  United Kingdom\n",
       "4                4  ...  United Kingdom\n",
       "...            ...  ...             ...\n",
       "400911      525456  ...  United Kingdom\n",
       "400912      525457  ...  United Kingdom\n",
       "400913      525458  ...  United Kingdom\n",
       "400914      525459  ...  United Kingdom\n",
       "400915      525460  ...  United Kingdom\n",
       "\n",
       "[400916 rows x 6 columns]"
      ]
     },
     "execution_count": 11,
     "metadata": {
      "tags": []
     },
     "output_type": "execute_result"
    }
   ],
   "source": [
    "exp_data"
   ]
  },
  {
   "cell_type": "code",
   "execution_count": 0,
   "metadata": {
    "colab": {
     "base_uri": "https://localhost:8080/",
     "height": 225
    },
    "colab_type": "code",
    "id": "-7VmP-ewBtrC",
    "outputId": "815d252e-54f2-4a59-8e53-715646fca4dc"
   },
   "outputs": [
    {
     "data": {
      "text/plain": [
       "0         34\n",
       "1         34\n",
       "2         34\n",
       "3         34\n",
       "4         34\n",
       "          ..\n",
       "400911    34\n",
       "400912    34\n",
       "400913    34\n",
       "400914    34\n",
       "400915    34\n",
       "Name: Country, Length: 400916, dtype: int64"
      ]
     },
     "execution_count": 12,
     "metadata": {
      "tags": []
     },
     "output_type": "execute_result"
    }
   ],
   "source": [
    "# Encoding the Categorical variable like product description and Country\n",
    "from sklearn.preprocessing import LabelEncoder\n",
    "labelencoder = LabelEncoder()\n",
    "\n",
    "exp_data['Description'] = labelencoder.fit_transform(exp_data['Description'] )\n",
    "exp_data['Description'] \n",
    "\n",
    "exp_data['Country'] = labelencoder.fit_transform(exp_data['Country'] )\n",
    "exp_data['Country'] "
   ]
  },
  {
   "cell_type": "code",
   "execution_count": 0,
   "metadata": {
    "colab": {},
    "colab_type": "code",
    "id": "PLJdJ1QdBz9A"
   },
   "outputs": [],
   "source": [
    "#Dropping null values\n",
    "exp_data.dropna(inplace=True)"
   ]
  },
  {
   "cell_type": "markdown",
   "metadata": {
    "colab_type": "text",
    "id": "gItsE5vlswUF"
   },
   "source": [
    "## Two Step Clustering\n"
   ]
  },
  {
   "cell_type": "markdown",
   "metadata": {
    "colab_type": "text",
    "id": "Np5v1TsOs0o_"
   },
   "source": [
    "We will apply clustering algorithm on each product transaction to classify them into 7 clusters. As we have seen above Heirarchical clustering algorithm will not able to cluster this huge amount of  data. So we first form the preclusters using K-means and then apply Heirarchical Clustering."
   ]
  },
  {
   "cell_type": "markdown",
   "metadata": {
    "colab_type": "text",
    "id": "Xva9yxIMfWSM"
   },
   "source": [
    "#### First Step - Generating 100 preclusters using k-means algorithm.\n",
    "\n"
   ]
  },
  {
   "cell_type": "code",
   "execution_count": 0,
   "metadata": {
    "colab": {
     "base_uri": "https://localhost:8080/",
     "height": 69
    },
    "colab_type": "code",
    "id": "kxvE_fpSChkq",
    "outputId": "167c032c-2071-4b48-9ffa-ad4455ff85ee"
   },
   "outputs": [
    {
     "data": {
      "text/plain": [
       "KMeans(algorithm='auto', copy_x=True, init='k-means++', max_iter=300,\n",
       "       n_clusters=100, n_init=10, n_jobs=None, precompute_distances='auto',\n",
       "       random_state=1, tol=0.0001, verbose=0)"
      ]
     },
     "execution_count": 14,
     "metadata": {
      "tags": []
     },
     "output_type": "execute_result"
    }
   ],
   "source": [
    "# Generating 100 pre-clusters using K-means.\n",
    "from sklearn.cluster import KMeans\n",
    "clustering = KMeans(n_clusters=100, n_init=10,\n",
    " random_state=1)\n",
    "clustering.fit(exp_data)"
   ]
  },
  {
   "cell_type": "code",
   "execution_count": 0,
   "metadata": {
    "colab": {},
    "colab_type": "code",
    "id": "ImBk1wayC7Sj"
   },
   "outputs": [],
   "source": [
    "# Kx = clustering.cluster_centers_\n",
    "K_means_centres=clustering.cluster_centers_\n",
    "Kx_mapping = {case:cluster for case,\n",
    " cluster in enumerate(clustering.labels_)}"
   ]
  },
  {
   "cell_type": "code",
   "execution_count": 0,
   "metadata": {
    "colab": {
     "base_uri": "https://localhost:8080/",
     "height": 363
    },
    "colab_type": "code",
    "id": "i0lYtps_vuAJ",
    "outputId": "979c3ceb-ed07-4ab3-a6d9-faa70c3a6fbc"
   },
   "outputs": [
    {
     "data": {
      "text/plain": [
       "array([[2.09009036e+05, 2.38024989e+03, 1.60856118e+01, 3.22952488e+00,\n",
       "        1.52622844e+04, 3.17978485e+01],\n",
       "       [3.98607333e+05, 2.30537469e+03, 1.07536200e+01, 3.10933393e+00,\n",
       "        1.55105471e+04, 3.26631767e+01],\n",
       "       [6.64043104e+04, 2.33567031e+03, 3.01815346e+01, 3.53271990e+00,\n",
       "        1.50657193e+04, 3.11122895e+01],\n",
       "       [4.82517025e+05, 2.31453239e+03, 1.07564540e+01, 3.07745251e+00,\n",
       "        1.56010202e+04, 3.21534340e+01],\n",
       "       [3.07980467e+05, 2.38802829e+03, 1.88188302e+01, 2.88431526e+00,\n",
       "        1.53832411e+04, 3.23975273e+01],\n",
       "       [1.39442979e+05, 2.37355921e+03, 1.15898814e+01, 2.99826058e+00,\n",
       "        1.53795977e+04, 3.21484218e+01],\n",
       "       [2.21404913e+04, 2.36082576e+03, 1.16892316e+01, 3.64768352e+00,\n",
       "        1.52974267e+04, 3.31328192e+01],\n",
       "       [2.51939945e+05, 2.37337917e+03, 1.48615206e+01, 3.43255237e+00,\n",
       "        1.50749438e+04, 3.16920093e+01],\n",
       "       [3.52082479e+05, 2.32582648e+03, 1.19042882e+01, 2.73048851e+00,\n",
       "        1.55338506e+04, 3.26178161e+01],\n",
       "       [4.37947204e+05, 2.28812423e+03, 9.61785546e+00, 3.04581483e+00,\n",
       "        1.50315770e+04, 3.19511101e+01]])"
      ]
     },
     "execution_count": 35,
     "metadata": {
      "tags": []
     },
     "output_type": "execute_result"
    }
   ],
   "source": [
    "K_means_centres[:10]"
   ]
  },
  {
   "cell_type": "markdown",
   "metadata": {
    "colab_type": "text",
    "id": "mjdXewBrwRB6"
   },
   "source": [
    "#### Second step - Implementing Heirarchical Clustering on the pre-clusters"
   ]
  },
  {
   "cell_type": "code",
   "execution_count": 0,
   "metadata": {
    "colab": {
     "base_uri": "https://localhost:8080/",
     "height": 69
    },
    "colab_type": "code",
    "id": "WMlrCC5DCmDQ",
    "outputId": "a4a7aff8-6e61-4af0-8b5d-73088bf888a6"
   },
   "outputs": [
    {
     "data": {
      "text/plain": [
       "AgglomerativeClustering(affinity='euclidean', compute_full_tree='auto',\n",
       "                        connectivity=None, distance_threshold=None,\n",
       "                        linkage='ward', memory=None, n_clusters=7)"
      ]
     },
     "execution_count": 23,
     "metadata": {
      "tags": []
     },
     "output_type": "execute_result"
    }
   ],
   "source": [
    "from sklearn.cluster import AgglomerativeClustering\n",
    "from scipy.cluster.hierarchy import dendrogram\n",
    "from sklearn.cluster import AgglomerativeClustering\n",
    "import scipy.cluster.hierarchy as sch\n",
    "\n",
    "X = np.array(K_means_centres)\n",
    "\n",
    "model=AgglomerativeClustering(n_clusters=7, affinity='euclidean', linkage='ward')\n",
    "model.fit(X)\n"
   ]
  },
  {
   "cell_type": "code",
   "execution_count": 0,
   "metadata": {
    "colab": {
     "base_uri": "https://localhost:8080/",
     "height": 104
    },
    "colab_type": "code",
    "id": "KCfthIA7Fy8D",
    "outputId": "f40a446e-5f79-46ee-9cb2-bb0617e877d3"
   },
   "outputs": [
    {
     "data": {
      "text/plain": [
       "array([4, 2, 0, 7, 1, 6, 5, 3, 7, 1, 4, 6, 0, 0, 5, 6, 1, 1, 0, 2, 7, 6,\n",
       "       3, 6, 5, 2, 3, 5, 5, 7, 1, 0, 4, 2, 3, 4, 0, 7, 6, 0, 7, 2, 0, 3,\n",
       "       0, 7, 4, 4, 5, 2, 0, 6, 2, 2, 5, 0, 1, 3, 7, 1, 4, 0, 7, 2, 3, 1,\n",
       "       6, 5, 6, 1, 2, 4, 0, 2, 0, 2, 1, 0, 7, 7, 0, 0, 6, 2, 5, 3, 3, 1,\n",
       "       5, 1, 4, 5, 4, 2, 3, 0, 0, 0, 2, 2])"
      ]
     },
     "execution_count": 72,
     "metadata": {
      "tags": []
     },
     "output_type": "execute_result"
    }
   ],
   "source": [
    "#Predicting the clusters of 100 pre-clusters\n",
    "model.fit_predict(X)"
   ]
  },
  {
   "cell_type": "code",
   "execution_count": 0,
   "metadata": {
    "colab": {},
    "colab_type": "code",
    "id": "1C_Eg2APKXnC"
   },
   "outputs": [],
   "source": [
    "#Assining Clusteters to the orignal numbers\n",
    "H_mapping = {case:cluster for case,\n",
    " cluster in enumerate(model.fit(X)\n",
    ".labels_)}\n",
    "final_mapping = {case:H_mapping[Kx_mapping[case]]\n",
    " for case in Kx_mapping}"
   ]
  },
  {
   "cell_type": "code",
   "execution_count": 0,
   "metadata": {
    "colab": {},
    "colab_type": "code",
    "id": "Q7b9FhWJKfiz"
   },
   "outputs": [],
   "source": [
    "result=pd.DataFrame(final_mapping,index=[0])\n"
   ]
  },
  {
   "cell_type": "code",
   "execution_count": 0,
   "metadata": {
    "colab": {},
    "colab_type": "code",
    "id": "0el8PqK7zl81"
   },
   "outputs": [],
   "source": [
    "result=result.T"
   ]
  },
  {
   "cell_type": "code",
   "execution_count": 0,
   "metadata": {
    "colab": {},
    "colab_type": "code",
    "id": "9x3T3wdazrZJ"
   },
   "outputs": [],
   "source": [
    "result.columns=['Cluster']"
   ]
  },
  {
   "cell_type": "code",
   "execution_count": 0,
   "metadata": {
    "colab": {},
    "colab_type": "code",
    "id": "jRAvImQEz3FP"
   },
   "outputs": [],
   "source": [
    "#Concating initail data and clusters\n",
    "combined_data = pd.concat([exp_data, result], axis=1)"
   ]
  },
  {
   "cell_type": "code",
   "execution_count": 0,
   "metadata": {
    "colab": {
     "base_uri": "https://localhost:8080/",
     "height": 407
    },
    "colab_type": "code",
    "id": "bhLkCX8b0OPz",
    "outputId": "6e012825-b77a-41d7-b087-fefbe94af67b"
   },
   "outputs": [
    {
     "data": {
      "text/html": [
       "<div>\n",
       "<style scoped>\n",
       "    .dataframe tbody tr th:only-of-type {\n",
       "        vertical-align: middle;\n",
       "    }\n",
       "\n",
       "    .dataframe tbody tr th {\n",
       "        vertical-align: top;\n",
       "    }\n",
       "\n",
       "    .dataframe thead th {\n",
       "        text-align: right;\n",
       "    }\n",
       "</style>\n",
       "<table border=\"1\" class=\"dataframe\">\n",
       "  <thead>\n",
       "    <tr style=\"text-align: right;\">\n",
       "      <th></th>\n",
       "      <th>Unnamed: 0</th>\n",
       "      <th>Description</th>\n",
       "      <th>Quantity</th>\n",
       "      <th>Price</th>\n",
       "      <th>Customer ID</th>\n",
       "      <th>Country</th>\n",
       "      <th>Cluster</th>\n",
       "    </tr>\n",
       "  </thead>\n",
       "  <tbody>\n",
       "    <tr>\n",
       "      <th>0</th>\n",
       "      <td>0</td>\n",
       "      <td>51</td>\n",
       "      <td>12</td>\n",
       "      <td>6.95</td>\n",
       "      <td>13085.0</td>\n",
       "      <td>34</td>\n",
       "      <td>6</td>\n",
       "    </tr>\n",
       "    <tr>\n",
       "      <th>1</th>\n",
       "      <td>1</td>\n",
       "      <td>2805</td>\n",
       "      <td>12</td>\n",
       "      <td>6.75</td>\n",
       "      <td>13085.0</td>\n",
       "      <td>34</td>\n",
       "      <td>6</td>\n",
       "    </tr>\n",
       "    <tr>\n",
       "      <th>2</th>\n",
       "      <td>2</td>\n",
       "      <td>27</td>\n",
       "      <td>12</td>\n",
       "      <td>6.75</td>\n",
       "      <td>13085.0</td>\n",
       "      <td>34</td>\n",
       "      <td>6</td>\n",
       "    </tr>\n",
       "    <tr>\n",
       "      <th>3</th>\n",
       "      <td>3</td>\n",
       "      <td>3118</td>\n",
       "      <td>48</td>\n",
       "      <td>2.10</td>\n",
       "      <td>13085.0</td>\n",
       "      <td>34</td>\n",
       "      <td>6</td>\n",
       "    </tr>\n",
       "    <tr>\n",
       "      <th>4</th>\n",
       "      <td>4</td>\n",
       "      <td>3933</td>\n",
       "      <td>24</td>\n",
       "      <td>1.25</td>\n",
       "      <td>13085.0</td>\n",
       "      <td>34</td>\n",
       "      <td>6</td>\n",
       "    </tr>\n",
       "    <tr>\n",
       "      <th>...</th>\n",
       "      <td>...</td>\n",
       "      <td>...</td>\n",
       "      <td>...</td>\n",
       "      <td>...</td>\n",
       "      <td>...</td>\n",
       "      <td>...</td>\n",
       "      <td>...</td>\n",
       "    </tr>\n",
       "    <tr>\n",
       "      <th>400911</th>\n",
       "      <td>525456</td>\n",
       "      <td>1445</td>\n",
       "      <td>2</td>\n",
       "      <td>2.95</td>\n",
       "      <td>17530.0</td>\n",
       "      <td>34</td>\n",
       "      <td>2</td>\n",
       "    </tr>\n",
       "    <tr>\n",
       "      <th>400912</th>\n",
       "      <td>525457</td>\n",
       "      <td>1454</td>\n",
       "      <td>1</td>\n",
       "      <td>3.75</td>\n",
       "      <td>17530.0</td>\n",
       "      <td>34</td>\n",
       "      <td>2</td>\n",
       "    </tr>\n",
       "    <tr>\n",
       "      <th>400913</th>\n",
       "      <td>525458</td>\n",
       "      <td>1455</td>\n",
       "      <td>1</td>\n",
       "      <td>3.75</td>\n",
       "      <td>17530.0</td>\n",
       "      <td>34</td>\n",
       "      <td>2</td>\n",
       "    </tr>\n",
       "    <tr>\n",
       "      <th>400914</th>\n",
       "      <td>525459</td>\n",
       "      <td>2845</td>\n",
       "      <td>2</td>\n",
       "      <td>3.75</td>\n",
       "      <td>17530.0</td>\n",
       "      <td>34</td>\n",
       "      <td>2</td>\n",
       "    </tr>\n",
       "    <tr>\n",
       "      <th>400915</th>\n",
       "      <td>525460</td>\n",
       "      <td>2078</td>\n",
       "      <td>2</td>\n",
       "      <td>1.95</td>\n",
       "      <td>17530.0</td>\n",
       "      <td>34</td>\n",
       "      <td>2</td>\n",
       "    </tr>\n",
       "  </tbody>\n",
       "</table>\n",
       "<p>400916 rows × 7 columns</p>\n",
       "</div>"
      ],
      "text/plain": [
       "        Unnamed: 0  Description  Quantity  Price  Customer ID  Country  Cluster\n",
       "0                0           51        12   6.95      13085.0       34        6\n",
       "1                1         2805        12   6.75      13085.0       34        6\n",
       "2                2           27        12   6.75      13085.0       34        6\n",
       "3                3         3118        48   2.10      13085.0       34        6\n",
       "4                4         3933        24   1.25      13085.0       34        6\n",
       "...            ...          ...       ...    ...          ...      ...      ...\n",
       "400911      525456         1445         2   2.95      17530.0       34        2\n",
       "400912      525457         1454         1   3.75      17530.0       34        2\n",
       "400913      525458         1455         1   3.75      17530.0       34        2\n",
       "400914      525459         2845         2   3.75      17530.0       34        2\n",
       "400915      525460         2078         2   1.95      17530.0       34        2\n",
       "\n",
       "[400916 rows x 7 columns]"
      ]
     },
     "execution_count": 34,
     "metadata": {
      "tags": []
     },
     "output_type": "execute_result"
    }
   ],
   "source": [
    "combined_data"
   ]
  },
  {
   "cell_type": "code",
   "execution_count": 0,
   "metadata": {
    "colab": {},
    "colab_type": "code",
    "id": "bA6KRFuo2l9W"
   },
   "outputs": [],
   "source": [
    "combined_data.drop(columns=['Unnamed: 0'],inplace=True)\n",
    "combined_data.drop(columns=['Customer ID'],inplace=True)"
   ]
  },
  {
   "cell_type": "code",
   "execution_count": 0,
   "metadata": {
    "colab": {
     "base_uri": "https://localhost:8080/",
     "height": 407
    },
    "colab_type": "code",
    "id": "fxSJ3Ga23bw5",
    "outputId": "31d3e53d-47e1-4253-cd24-6c71aba1b87d"
   },
   "outputs": [
    {
     "data": {
      "text/html": [
       "<div>\n",
       "<style scoped>\n",
       "    .dataframe tbody tr th:only-of-type {\n",
       "        vertical-align: middle;\n",
       "    }\n",
       "\n",
       "    .dataframe tbody tr th {\n",
       "        vertical-align: top;\n",
       "    }\n",
       "\n",
       "    .dataframe thead th {\n",
       "        text-align: right;\n",
       "    }\n",
       "</style>\n",
       "<table border=\"1\" class=\"dataframe\">\n",
       "  <thead>\n",
       "    <tr style=\"text-align: right;\">\n",
       "      <th></th>\n",
       "      <th>Description</th>\n",
       "      <th>Quantity</th>\n",
       "      <th>Price</th>\n",
       "      <th>Country</th>\n",
       "      <th>Cluster</th>\n",
       "    </tr>\n",
       "  </thead>\n",
       "  <tbody>\n",
       "    <tr>\n",
       "      <th>0</th>\n",
       "      <td>51</td>\n",
       "      <td>12</td>\n",
       "      <td>6.95</td>\n",
       "      <td>34</td>\n",
       "      <td>6</td>\n",
       "    </tr>\n",
       "    <tr>\n",
       "      <th>1</th>\n",
       "      <td>2805</td>\n",
       "      <td>12</td>\n",
       "      <td>6.75</td>\n",
       "      <td>34</td>\n",
       "      <td>6</td>\n",
       "    </tr>\n",
       "    <tr>\n",
       "      <th>2</th>\n",
       "      <td>27</td>\n",
       "      <td>12</td>\n",
       "      <td>6.75</td>\n",
       "      <td>34</td>\n",
       "      <td>6</td>\n",
       "    </tr>\n",
       "    <tr>\n",
       "      <th>3</th>\n",
       "      <td>3118</td>\n",
       "      <td>48</td>\n",
       "      <td>2.10</td>\n",
       "      <td>34</td>\n",
       "      <td>6</td>\n",
       "    </tr>\n",
       "    <tr>\n",
       "      <th>4</th>\n",
       "      <td>3933</td>\n",
       "      <td>24</td>\n",
       "      <td>1.25</td>\n",
       "      <td>34</td>\n",
       "      <td>6</td>\n",
       "    </tr>\n",
       "    <tr>\n",
       "      <th>...</th>\n",
       "      <td>...</td>\n",
       "      <td>...</td>\n",
       "      <td>...</td>\n",
       "      <td>...</td>\n",
       "      <td>...</td>\n",
       "    </tr>\n",
       "    <tr>\n",
       "      <th>400911</th>\n",
       "      <td>1445</td>\n",
       "      <td>2</td>\n",
       "      <td>2.95</td>\n",
       "      <td>34</td>\n",
       "      <td>2</td>\n",
       "    </tr>\n",
       "    <tr>\n",
       "      <th>400912</th>\n",
       "      <td>1454</td>\n",
       "      <td>1</td>\n",
       "      <td>3.75</td>\n",
       "      <td>34</td>\n",
       "      <td>2</td>\n",
       "    </tr>\n",
       "    <tr>\n",
       "      <th>400913</th>\n",
       "      <td>1455</td>\n",
       "      <td>1</td>\n",
       "      <td>3.75</td>\n",
       "      <td>34</td>\n",
       "      <td>2</td>\n",
       "    </tr>\n",
       "    <tr>\n",
       "      <th>400914</th>\n",
       "      <td>2845</td>\n",
       "      <td>2</td>\n",
       "      <td>3.75</td>\n",
       "      <td>34</td>\n",
       "      <td>2</td>\n",
       "    </tr>\n",
       "    <tr>\n",
       "      <th>400915</th>\n",
       "      <td>2078</td>\n",
       "      <td>2</td>\n",
       "      <td>1.95</td>\n",
       "      <td>34</td>\n",
       "      <td>2</td>\n",
       "    </tr>\n",
       "  </tbody>\n",
       "</table>\n",
       "<p>400916 rows × 5 columns</p>\n",
       "</div>"
      ],
      "text/plain": [
       "        Description  Quantity  Price  Country  Cluster\n",
       "0                51        12   6.95       34        6\n",
       "1              2805        12   6.75       34        6\n",
       "2                27        12   6.75       34        6\n",
       "3              3118        48   2.10       34        6\n",
       "4              3933        24   1.25       34        6\n",
       "...             ...       ...    ...      ...      ...\n",
       "400911         1445         2   2.95       34        2\n",
       "400912         1454         1   3.75       34        2\n",
       "400913         1455         1   3.75       34        2\n",
       "400914         2845         2   3.75       34        2\n",
       "400915         2078         2   1.95       34        2\n",
       "\n",
       "[400916 rows x 5 columns]"
      ]
     },
     "execution_count": 47,
     "metadata": {
      "tags": []
     },
     "output_type": "execute_result"
    }
   ],
   "source": [
    "combined_data"
   ]
  },
  {
   "cell_type": "code",
   "execution_count": 0,
   "metadata": {
    "colab": {},
    "colab_type": "code",
    "id": "g2kSI_lZ3rTO"
   },
   "outputs": [],
   "source": [
    "#Applying PCA to visualize cluster analysis\n",
    "from sklearn.preprocessing import StandardScaler\n",
    "\n",
    "x = combined_data.drop(columns=['Cluster'])\n",
    "y = combined_data['Cluster'].values\n",
    "x = StandardScaler().fit_transform(x)"
   ]
  },
  {
   "cell_type": "code",
   "execution_count": 0,
   "metadata": {
    "colab": {},
    "colab_type": "code",
    "id": "YOSbedbP4BeS"
   },
   "outputs": [],
   "source": [
    "from sklearn.decomposition import PCA\n",
    "pca = PCA(n_components=2)\n",
    "principalComponents = pca.fit_transform(x)\n",
    "principalDf = pd.DataFrame(data = principalComponents\n",
    "             , columns = ['principal component 1', 'principal component 2'])"
   ]
  },
  {
   "cell_type": "code",
   "execution_count": 0,
   "metadata": {
    "colab": {},
    "colab_type": "code",
    "id": "lqFYKYgu5Hyb"
   },
   "outputs": [],
   "source": [
    "finalDf = pd.concat([principalDf, combined_data[['Cluster']]], axis = 1)"
   ]
  },
  {
   "cell_type": "code",
   "execution_count": 0,
   "metadata": {
    "colab": {
     "base_uri": "https://localhost:8080/",
     "height": 523
    },
    "colab_type": "code",
    "id": "K0Msc2MN4J1d",
    "outputId": "4647e12f-df9f-462f-f048-5c02362e82a5"
   },
   "outputs": [
    {
     "data": {
      "image/png": "[encoded data removed]",
      "text/plain": [
       "<Figure size 576x576 with 1 Axes>"
      ]
     },
     "metadata": {
      "needs_background": "light",
      "tags": []
     },
     "output_type": "display_data"
    }
   ],
   "source": [
    "fig = plt.figure(figsize = (8,8))\n",
    "ax = fig.add_subplot(1,1,1) \n",
    "ax.set_xlabel('Principal Component 1', fontsize = 15)\n",
    "ax.set_ylabel('Principal Component 2', fontsize = 15)\n",
    "ax.set_title('2 component PCA', fontsize = 20)\n",
    "targets = [0,1,2,3,4,5,6]\n",
    "\n",
    "for target in zip(targets):\n",
    "    indicesToKeep = finalDf['Cluster'] == target\n",
    "    ax.scatter(finalDf.loc[indicesToKeep, 'principal component 1']\n",
    "               , finalDf.loc[indicesToKeep, 'principal component 2']\n",
    "               \n",
    "               , s = 50)\n",
    "ax.legend(targets)\n",
    "ax.grid()"
   ]
  },
  {
   "cell_type": "markdown",
   "metadata": {
    "colab_type": "text",
    "id": "6ORtayFZzlFD"
   },
   "source": [
    "Clusters are not clearly isolated as we were expecting from the Two step clustering . There is many possible directions that can be further explored. Such as , encoding of categorical variables based on co-occurance can be done rather than simply Label encoding the variables. \n",
    "The main advantage of two steps clustering analysis is it can handle huge amount of data. Cluster centre may be slightly distorted with the two phase, but it is efficent for large datasets.\n",
    "When we tried, above data of 4 lakh rows in Hierarchical clustering ,kernal  crashed and we were unable to get any  result."
   ]
  }
 ],
 "metadata": {
  "colab": {
   "collapsed_sections": [],
   "name": "Two_step_clustering_final.ipynb",
   "provenance": []
  },
  "kernelspec": {
   "display_name": "Python 3",
   "language": "python",
   "name": "python3"
  },
  "language_info": {
   "codemirror_mode": {
    "name": "ipython",
    "version": 3
   },
   "file_extension": ".py",
   "mimetype": "text/x-python",
   "name": "python",
   "nbconvert_exporter": "python",
   "pygments_lexer": "ipython3",
   "version": "3.7.4"
  }
 },
 "nbformat": 4,
 "nbformat_minor": 1
}
