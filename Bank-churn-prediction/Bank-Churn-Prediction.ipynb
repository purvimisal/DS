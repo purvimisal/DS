{
 "cells": [
  {
   "cell_type": "markdown",
   "metadata": {
    "colab_type": "text",
    "id": "lP6JLo1tGNBg"
   },
   "source": [
    "## Using an Artificial Neural Network"
   ]
  },
  {
   "cell_type": "markdown",
   "metadata": {
    "colab_type": "text",
    "id": "gWZyYmS_UE_L"
   },
   "source": [
    "Implemented first, with the original unbalanced dataset and then with  a balanced dataset\n",
    "\n",
    "Here, \n",
    "balanced means whether the frequency of target values (here, 1 and 0) is equal or not \n",
    "(Equal prior probability)"
   ]
  },
  {
   "cell_type": "code",
   "execution_count": 1,
   "metadata": {
    "colab": {},
    "colab_type": "code",
    "id": "MxkJoQBkUIHC"
   },
   "outputs": [],
   "source": [
    "import numpy as np\n",
    "import pandas as pd\n",
    "import tensorflow as tf"
   ]
  },
  {
   "cell_type": "code",
   "execution_count": 2,
   "metadata": {
    "colab": {
     "base_uri": "https://localhost:8080/",
     "height": 34
    },
    "colab_type": "code",
    "id": "ZaTwK7ojXr2F",
    "outputId": "0b27a96d-d11a-43e8-ab4b-87c1f01896fe"
   },
   "outputs": [
    {
     "data": {
      "text/plain": [
       "'2.1.0'"
      ]
     },
     "execution_count": 2,
     "metadata": {},
     "output_type": "execute_result"
    }
   ],
   "source": [
    "tf.__version__"
   ]
  },
  {
   "cell_type": "markdown",
   "metadata": {
    "colab_type": "text",
    "id": "1E0Q3aoKUCRX"
   },
   "source": [
    "### Data Preprocessing"
   ]
  },
  {
   "cell_type": "code",
   "execution_count": 3,
   "metadata": {
    "colab": {},
    "colab_type": "code",
    "id": "MXUkhkMfU4wq"
   },
   "outputs": [
    {
     "data": {
      "text/html": [
       "<div>\n",
       "<style scoped>\n",
       "    .dataframe tbody tr th:only-of-type {\n",
       "        vertical-align: middle;\n",
       "    }\n",
       "\n",
       "    .dataframe tbody tr th {\n",
       "        vertical-align: top;\n",
       "    }\n",
       "\n",
       "    .dataframe thead th {\n",
       "        text-align: right;\n",
       "    }\n",
       "</style>\n",
       "<table border=\"1\" class=\"dataframe\">\n",
       "  <thead>\n",
       "    <tr style=\"text-align: right;\">\n",
       "      <th></th>\n",
       "      <th>RowNumber</th>\n",
       "      <th>CustomerId</th>\n",
       "      <th>Surname</th>\n",
       "      <th>CreditScore</th>\n",
       "      <th>Geography</th>\n",
       "      <th>Gender</th>\n",
       "      <th>Age</th>\n",
       "      <th>Tenure</th>\n",
       "      <th>Balance</th>\n",
       "      <th>NumOfProducts</th>\n",
       "      <th>HasCrCard</th>\n",
       "      <th>IsActiveMember</th>\n",
       "      <th>EstimatedSalary</th>\n",
       "      <th>Exited</th>\n",
       "    </tr>\n",
       "  </thead>\n",
       "  <tbody>\n",
       "    <tr>\n",
       "      <th>0</th>\n",
       "      <td>1</td>\n",
       "      <td>15634602</td>\n",
       "      <td>Hargrave</td>\n",
       "      <td>619</td>\n",
       "      <td>France</td>\n",
       "      <td>Female</td>\n",
       "      <td>42</td>\n",
       "      <td>2</td>\n",
       "      <td>0.00</td>\n",
       "      <td>1</td>\n",
       "      <td>1</td>\n",
       "      <td>1</td>\n",
       "      <td>101348.88</td>\n",
       "      <td>1</td>\n",
       "    </tr>\n",
       "    <tr>\n",
       "      <th>1</th>\n",
       "      <td>2</td>\n",
       "      <td>15647311</td>\n",
       "      <td>Hill</td>\n",
       "      <td>608</td>\n",
       "      <td>Spain</td>\n",
       "      <td>Female</td>\n",
       "      <td>41</td>\n",
       "      <td>1</td>\n",
       "      <td>83807.86</td>\n",
       "      <td>1</td>\n",
       "      <td>0</td>\n",
       "      <td>1</td>\n",
       "      <td>112542.58</td>\n",
       "      <td>0</td>\n",
       "    </tr>\n",
       "    <tr>\n",
       "      <th>2</th>\n",
       "      <td>3</td>\n",
       "      <td>15619304</td>\n",
       "      <td>Onio</td>\n",
       "      <td>502</td>\n",
       "      <td>France</td>\n",
       "      <td>Female</td>\n",
       "      <td>42</td>\n",
       "      <td>8</td>\n",
       "      <td>159660.80</td>\n",
       "      <td>3</td>\n",
       "      <td>1</td>\n",
       "      <td>0</td>\n",
       "      <td>113931.57</td>\n",
       "      <td>1</td>\n",
       "    </tr>\n",
       "    <tr>\n",
       "      <th>3</th>\n",
       "      <td>4</td>\n",
       "      <td>15701354</td>\n",
       "      <td>Boni</td>\n",
       "      <td>699</td>\n",
       "      <td>France</td>\n",
       "      <td>Female</td>\n",
       "      <td>39</td>\n",
       "      <td>1</td>\n",
       "      <td>0.00</td>\n",
       "      <td>2</td>\n",
       "      <td>0</td>\n",
       "      <td>0</td>\n",
       "      <td>93826.63</td>\n",
       "      <td>0</td>\n",
       "    </tr>\n",
       "    <tr>\n",
       "      <th>4</th>\n",
       "      <td>5</td>\n",
       "      <td>15737888</td>\n",
       "      <td>Mitchell</td>\n",
       "      <td>850</td>\n",
       "      <td>Spain</td>\n",
       "      <td>Female</td>\n",
       "      <td>43</td>\n",
       "      <td>2</td>\n",
       "      <td>125510.82</td>\n",
       "      <td>1</td>\n",
       "      <td>1</td>\n",
       "      <td>1</td>\n",
       "      <td>79084.10</td>\n",
       "      <td>0</td>\n",
       "    </tr>\n",
       "  </tbody>\n",
       "</table>\n",
       "</div>"
      ],
      "text/plain": [
       "   RowNumber  CustomerId   Surname  CreditScore Geography  Gender  Age  \\\n",
       "0          1    15634602  Hargrave          619    France  Female   42   \n",
       "1          2    15647311      Hill          608     Spain  Female   41   \n",
       "2          3    15619304      Onio          502    France  Female   42   \n",
       "3          4    15701354      Boni          699    France  Female   39   \n",
       "4          5    15737888  Mitchell          850     Spain  Female   43   \n",
       "\n",
       "   Tenure    Balance  NumOfProducts  HasCrCard  IsActiveMember  \\\n",
       "0       2       0.00              1          1               1   \n",
       "1       1   83807.86              1          0               1   \n",
       "2       8  159660.80              3          1               0   \n",
       "3       1       0.00              2          0               0   \n",
       "4       2  125510.82              1          1               1   \n",
       "\n",
       "   EstimatedSalary  Exited  \n",
       "0        101348.88       1  \n",
       "1        112542.58       0  \n",
       "2        113931.57       1  \n",
       "3         93826.63       0  \n",
       "4         79084.10       0  "
      ]
     },
     "execution_count": 3,
     "metadata": {},
     "output_type": "execute_result"
    }
   ],
   "source": [
    "dataset = pd.read_csv('Churn_Modelling.csv')\n",
    "dataset.head()"
   ]
  },
  {
   "cell_type": "code",
   "execution_count": 4,
   "metadata": {},
   "outputs": [
    {
     "data": {
      "text/plain": [
       "(10000, 14)"
      ]
     },
     "execution_count": 4,
     "metadata": {},
     "output_type": "execute_result"
    }
   ],
   "source": [
    "dataset.shape"
   ]
  },
  {
   "cell_type": "code",
   "execution_count": 5,
   "metadata": {},
   "outputs": [],
   "source": [
    "X = dataset.iloc[:, 3:-1].values\n",
    "y = dataset.iloc[:, -1].values"
   ]
  },
  {
   "cell_type": "code",
   "execution_count": 6,
   "metadata": {
    "colab": {
     "base_uri": "https://localhost:8080/",
     "height": 137
    },
    "colab_type": "code",
    "id": "VYP9cQTWbzuI",
    "outputId": "797e7a64-9bac-436a-8c9c-94437e5e7587"
   },
   "outputs": [
    {
     "name": "stdout",
     "output_type": "stream",
     "text": [
      "[[619 'France' 'Female' ... 1 1 101348.88]\n",
      " [608 'Spain' 'Female' ... 0 1 112542.58]\n",
      " [502 'France' 'Female' ... 1 0 113931.57]\n",
      " ...\n",
      " [709 'France' 'Female' ... 0 1 42085.58]\n",
      " [772 'Germany' 'Male' ... 1 0 92888.52]\n",
      " [792 'France' 'Female' ... 1 0 38190.78]]\n"
     ]
    }
   ],
   "source": [
    "print(X)"
   ]
  },
  {
   "cell_type": "code",
   "execution_count": 7,
   "metadata": {
    "colab": {
     "base_uri": "https://localhost:8080/",
     "height": 34
    },
    "colab_type": "code",
    "id": "38vKGE6Nb2RR",
    "outputId": "a815e42a-e0dd-4cb5-ab97-b17ead98fbc3"
   },
   "outputs": [
    {
     "name": "stdout",
     "output_type": "stream",
     "text": [
      "[1 0 1 ... 1 1 0]\n"
     ]
    }
   ],
   "source": [
    "print(y)"
   ]
  },
  {
   "cell_type": "markdown",
   "metadata": {
    "colab_type": "text",
    "id": "N6bQ0UgSU-NJ"
   },
   "source": [
    "### Encoding categorical data"
   ]
  },
  {
   "cell_type": "code",
   "execution_count": 8,
   "metadata": {
    "colab": {},
    "colab_type": "code",
    "id": "PxVKWXxLbczC"
   },
   "outputs": [],
   "source": [
    "# Label Encoding the \"Gender\" column \n",
    "from sklearn.preprocessing import LabelEncoder\n",
    "le = LabelEncoder()\n",
    "X[:, 2] = le.fit_transform(X[:, 2])  #gender column "
   ]
  },
  {
   "cell_type": "code",
   "execution_count": 9,
   "metadata": {
    "colab": {
     "base_uri": "https://localhost:8080/",
     "height": 137
    },
    "colab_type": "code",
    "id": "-M1KboxFb6OO",
    "outputId": "e2b8c7e8-0cbc-4cdf-f4eb-7f0853a00b88"
   },
   "outputs": [
    {
     "name": "stdout",
     "output_type": "stream",
     "text": [
      "[[619 'France' 0 ... 1 1 101348.88]\n",
      " [608 'Spain' 0 ... 0 1 112542.58]\n",
      " [502 'France' 0 ... 1 0 113931.57]\n",
      " ...\n",
      " [709 'France' 0 ... 0 1 42085.58]\n",
      " [772 'Germany' 1 ... 1 0 92888.52]\n",
      " [792 'France' 0 ... 1 0 38190.78]]\n"
     ]
    }
   ],
   "source": [
    "print(X)"
   ]
  },
  {
   "cell_type": "code",
   "execution_count": 10,
   "metadata": {
    "colab": {},
    "colab_type": "code",
    "id": "AMXC8-KMVirw"
   },
   "outputs": [],
   "source": [
    "# One Hot Encoding the \"Geography\" column\n",
    "from sklearn.compose import ColumnTransformer\n",
    "from sklearn.preprocessing import OneHotEncoder\n",
    "ct = ColumnTransformer(transformers=[('encoder', OneHotEncoder(), [1])], remainder='passthrough')\n",
    "X = np.array(ct.fit_transform(X))"
   ]
  },
  {
   "cell_type": "code",
   "execution_count": 11,
   "metadata": {
    "colab": {
     "base_uri": "https://localhost:8080/",
     "height": 137
    },
    "colab_type": "code",
    "id": "ZcxwEon-b8nV",
    "outputId": "23a98af4-5e33-4b26-c27b-f06e3c5d2baf"
   },
   "outputs": [
    {
     "name": "stdout",
     "output_type": "stream",
     "text": [
      "[[1.0 0.0 0.0 ... 1 1 101348.88]\n",
      " [0.0 0.0 1.0 ... 0 1 112542.58]\n",
      " [1.0 0.0 0.0 ... 1 0 113931.57]\n",
      " ...\n",
      " [1.0 0.0 0.0 ... 0 1 42085.58]\n",
      " [0.0 1.0 0.0 ... 1 0 92888.52]\n",
      " [1.0 0.0 0.0 ... 1 0 38190.78]]\n"
     ]
    }
   ],
   "source": [
    "print(X)"
   ]
  },
  {
   "cell_type": "markdown",
   "metadata": {
    "colab_type": "text",
    "id": "vHol938cW8zd"
   },
   "source": [
    "### Splitting the dataset into Training set and Test set"
   ]
  },
  {
   "cell_type": "code",
   "execution_count": 12,
   "metadata": {
    "colab": {},
    "colab_type": "code",
    "id": "Z-TDt0Y_XEfc"
   },
   "outputs": [],
   "source": [
    "from sklearn.model_selection import train_test_split\n",
    "X_train, X_test, y_train, y_test = train_test_split(X, y, test_size = 0.2, random_state = 0)"
   ]
  },
  {
   "cell_type": "markdown",
   "metadata": {
    "colab_type": "text",
    "id": "RE_FcHyfV3TQ"
   },
   "source": [
    "### Feature Scaling"
   ]
  },
  {
   "cell_type": "code",
   "execution_count": 13,
   "metadata": {
    "colab": {},
    "colab_type": "code",
    "id": "ViCrE00rV8Sk"
   },
   "outputs": [],
   "source": [
    "from sklearn.preprocessing import StandardScaler\n",
    "sc = StandardScaler()\n",
    "X_train = sc.fit_transform(X_train)\n",
    "X_test = sc.transform(X_test)"
   ]
  },
  {
   "cell_type": "markdown",
   "metadata": {
    "colab_type": "text",
    "id": "-zfEzkRVXIwF"
   },
   "source": [
    "### Building the ANN"
   ]
  },
  {
   "cell_type": "code",
   "execution_count": 14,
   "metadata": {
    "colab": {},
    "colab_type": "code",
    "id": "3dtrScHxXQox"
   },
   "outputs": [],
   "source": [
    "# Initializing the ANN\n",
    "ann = tf.keras.models.Sequential()"
   ]
  },
  {
   "cell_type": "code",
   "execution_count": 15,
   "metadata": {
    "colab": {},
    "colab_type": "code",
    "id": "bppGycBXYCQr"
   },
   "outputs": [],
   "source": [
    "# Adding the input layer and the first hidden layer\n",
    "ann.add(tf.keras.layers.Dense(units=6, activation='relu'))"
   ]
  },
  {
   "cell_type": "code",
   "execution_count": 16,
   "metadata": {
    "colab": {},
    "colab_type": "code",
    "id": "JneR0u0sYRTd"
   },
   "outputs": [],
   "source": [
    "# Adding the second hidden layer\n",
    "ann.add(tf.keras.layers.Dense(units=6, activation='relu'))"
   ]
  },
  {
   "cell_type": "code",
   "execution_count": 17,
   "metadata": {
    "colab": {},
    "colab_type": "code",
    "id": "Cn3x41RBYfvY"
   },
   "outputs": [],
   "source": [
    "# Adding the output layer\n",
    "ann.add(tf.keras.layers.Dense(units=1, activation='sigmoid'))"
   ]
  },
  {
   "cell_type": "markdown",
   "metadata": {
    "colab_type": "text",
    "id": "JT4u2S1_Y4WG"
   },
   "source": [
    "### Training the ANN"
   ]
  },
  {
   "cell_type": "code",
   "execution_count": 18,
   "metadata": {
    "colab": {},
    "colab_type": "code",
    "id": "fG3RrwDXZEaS"
   },
   "outputs": [],
   "source": [
    "# Compiling the ANN\n",
    "ann.compile(optimizer = 'adam', loss = 'binary_crossentropy', metrics = ['accuracy'])"
   ]
  },
  {
   "cell_type": "code",
   "execution_count": 19,
   "metadata": {
    "colab": {
     "base_uri": "https://localhost:8080/",
     "height": 1000
    },
    "colab_type": "code",
    "id": "nHZ-LKv_ZRb3",
    "outputId": "718cc4b0-b5aa-40f0-9b20-d3d31730a531"
   },
   "outputs": [
    {
     "name": "stdout",
     "output_type": "stream",
     "text": [
      "Train on 8000 samples\n",
      "Epoch 1/100\n",
      "8000/8000 [==============================] - 1s 157us/sample - loss: 0.5550 - accuracy: 0.7681\n",
      "Epoch 2/100\n",
      "8000/8000 [==============================] - 1s 83us/sample - loss: 0.4671 - accuracy: 0.7960\n",
      "Epoch 3/100\n",
      "8000/8000 [==============================] - 1s 138us/sample - loss: 0.4437 - accuracy: 0.7962\n",
      "Epoch 4/100\n",
      "8000/8000 [==============================] - 1s 147us/sample - loss: 0.4345 - accuracy: 0.7981\n",
      "Epoch 5/100\n",
      "8000/8000 [==============================] - 2s 196us/sample - loss: 0.4291 - accuracy: 0.8019\n",
      "Epoch 6/100\n",
      "8000/8000 [==============================] - 1s 122us/sample - loss: 0.4245 - accuracy: 0.8048\n",
      "Epoch 7/100\n",
      "8000/8000 [==============================] - 1s 122us/sample - loss: 0.4203 - accuracy: 0.8086\n",
      "Epoch 8/100\n",
      "8000/8000 [==============================] - 1s 103us/sample - loss: 0.4156 - accuracy: 0.8106\n",
      "Epoch 9/100\n",
      "8000/8000 [==============================] - 1s 83us/sample - loss: 0.4113 - accuracy: 0.8135\n",
      "Epoch 10/100\n",
      "8000/8000 [==============================] - 1s 79us/sample - loss: 0.4071 - accuracy: 0.8136\n",
      "Epoch 11/100\n",
      "8000/8000 [==============================] - 1s 75us/sample - loss: 0.4036 - accuracy: 0.8261\n",
      "Epoch 12/100\n",
      "8000/8000 [==============================] - 1s 90us/sample - loss: 0.4003 - accuracy: 0.8299\n",
      "Epoch 13/100\n",
      "8000/8000 [==============================] - 1s 82us/sample - loss: 0.3979 - accuracy: 0.8314\n",
      "Epoch 14/100\n",
      "8000/8000 [==============================] - 1s 92us/sample - loss: 0.3957 - accuracy: 0.8316\n",
      "Epoch 15/100\n",
      "8000/8000 [==============================] - 1s 64us/sample - loss: 0.3937 - accuracy: 0.8315\n",
      "Epoch 16/100\n",
      "8000/8000 [==============================] - 0s 56us/sample - loss: 0.3923 - accuracy: 0.8320\n",
      "Epoch 17/100\n",
      "8000/8000 [==============================] - 0s 53us/sample - loss: 0.3911 - accuracy: 0.8324\n",
      "Epoch 18/100\n",
      "8000/8000 [==============================] - 0s 53us/sample - loss: 0.3898 - accuracy: 0.8338\n",
      "Epoch 19/100\n",
      "8000/8000 [==============================] - 1s 67us/sample - loss: 0.3889 - accuracy: 0.8331\n",
      "Epoch 20/100\n",
      "8000/8000 [==============================] - 1s 80us/sample - loss: 0.3883 - accuracy: 0.8340\n",
      "Epoch 21/100\n",
      "8000/8000 [==============================] - 1s 84us/sample - loss: 0.3875 - accuracy: 0.8344\n",
      "Epoch 22/100\n",
      "8000/8000 [==============================] - 1s 102us/sample - loss: 0.3864 - accuracy: 0.8331\n",
      "Epoch 23/100\n",
      "8000/8000 [==============================] - 1s 114us/sample - loss: 0.3860 - accuracy: 0.8350\n",
      "Epoch 24/100\n",
      "8000/8000 [==============================] - 1s 110us/sample - loss: 0.3851 - accuracy: 0.8331\n",
      "Epoch 25/100\n",
      "8000/8000 [==============================] - 1s 118us/sample - loss: 0.3839 - accuracy: 0.8349\n",
      "Epoch 26/100\n",
      "8000/8000 [==============================] - 1s 105us/sample - loss: 0.3835 - accuracy: 0.8356\n",
      "Epoch 27/100\n",
      "8000/8000 [==============================] - 1s 103us/sample - loss: 0.3832 - accuracy: 0.8345\n",
      "Epoch 28/100\n",
      "8000/8000 [==============================] - 1s 93us/sample - loss: 0.3824 - accuracy: 0.8329\n",
      "Epoch 29/100\n",
      "8000/8000 [==============================] - 1s 79us/sample - loss: 0.3815 - accuracy: 0.8359\n",
      "Epoch 30/100\n",
      "8000/8000 [==============================] - 1s 106us/sample - loss: 0.3811 - accuracy: 0.8360\n",
      "Epoch 31/100\n",
      "8000/8000 [==============================] - 1s 76us/sample - loss: 0.3804 - accuracy: 0.8363\n",
      "Epoch 32/100\n",
      "8000/8000 [==============================] - 0s 54us/sample - loss: 0.3798 - accuracy: 0.8361\n",
      "Epoch 33/100\n",
      "8000/8000 [==============================] - 0s 60us/sample - loss: 0.3788 - accuracy: 0.8360\n",
      "Epoch 34/100\n",
      "8000/8000 [==============================] - 1s 81us/sample - loss: 0.3781 - accuracy: 0.8365\n",
      "Epoch 35/100\n",
      "8000/8000 [==============================] - 1s 67us/sample - loss: 0.3777 - accuracy: 0.8379\n",
      "Epoch 36/100\n",
      "8000/8000 [==============================] - 0s 59us/sample - loss: 0.3764 - accuracy: 0.8367\n",
      "Epoch 37/100\n",
      "8000/8000 [==============================] - 1s 106us/sample - loss: 0.3758 - accuracy: 0.8388\n",
      "Epoch 38/100\n",
      "8000/8000 [==============================] - 1s 75us/sample - loss: 0.3744 - accuracy: 0.8395\n",
      "Epoch 39/100\n",
      "8000/8000 [==============================] - 1s 134us/sample - loss: 0.3733 - accuracy: 0.8404\n",
      "Epoch 40/100\n",
      "8000/8000 [==============================] - 1s 121us/sample - loss: 0.3721 - accuracy: 0.8385\n",
      "Epoch 41/100\n",
      "8000/8000 [==============================] - 1s 121us/sample - loss: 0.3710 - accuracy: 0.8419\n",
      "Epoch 42/100\n",
      "8000/8000 [==============================] - 1s 78us/sample - loss: 0.3701 - accuracy: 0.8426\n",
      "Epoch 43/100\n",
      "8000/8000 [==============================] - 1s 76us/sample - loss: 0.3692 - accuracy: 0.8432\n",
      "Epoch 44/100\n",
      "8000/8000 [==============================] - 1s 86us/sample - loss: 0.3686 - accuracy: 0.8445\n",
      "Epoch 45/100\n",
      "8000/8000 [==============================] - 1s 65us/sample - loss: 0.3680 - accuracy: 0.8453\n",
      "Epoch 46/100\n",
      "8000/8000 [==============================] - 0s 51us/sample - loss: 0.3673 - accuracy: 0.8449\n",
      "Epoch 47/100\n",
      "8000/8000 [==============================] - 0s 40us/sample - loss: 0.3662 - accuracy: 0.8440\n",
      "Epoch 48/100\n",
      "8000/8000 [==============================] - 0s 54us/sample - loss: 0.3658 - accuracy: 0.8426\n",
      "Epoch 49/100\n",
      "8000/8000 [==============================] - 0s 55us/sample - loss: 0.3646 - accuracy: 0.8441\n",
      "Epoch 50/100\n",
      "8000/8000 [==============================] - 0s 48us/sample - loss: 0.3638 - accuracy: 0.8450\n",
      "Epoch 51/100\n",
      "8000/8000 [==============================] - 0s 60us/sample - loss: 0.3634 - accuracy: 0.8466\n",
      "Epoch 52/100\n",
      "8000/8000 [==============================] - 0s 39us/sample - loss: 0.3629 - accuracy: 0.8455\n",
      "Epoch 53/100\n",
      "8000/8000 [==============================] - 0s 49us/sample - loss: 0.3623 - accuracy: 0.8460\n",
      "Epoch 54/100\n",
      "8000/8000 [==============================] - 0s 52us/sample - loss: 0.3621 - accuracy: 0.8466\n",
      "Epoch 55/100\n",
      "8000/8000 [==============================] - 0s 51us/sample - loss: 0.3613 - accuracy: 0.8464\n",
      "Epoch 56/100\n",
      "8000/8000 [==============================] - 0s 47us/sample - loss: 0.3610 - accuracy: 0.8468\n",
      "Epoch 57/100\n",
      "8000/8000 [==============================] - 0s 52us/sample - loss: 0.3607 - accuracy: 0.8486\n",
      "Epoch 58/100\n",
      "8000/8000 [==============================] - 0s 48us/sample - loss: 0.3604 - accuracy: 0.8454\n",
      "Epoch 59/100\n",
      "8000/8000 [==============================] - 0s 52us/sample - loss: 0.3597 - accuracy: 0.8465\n",
      "Epoch 60/100\n",
      "8000/8000 [==============================] - 0s 47us/sample - loss: 0.3599 - accuracy: 0.8490\n",
      "Epoch 61/100\n",
      "8000/8000 [==============================] - 0s 50us/sample - loss: 0.3590 - accuracy: 0.8485\n",
      "Epoch 62/100\n",
      "8000/8000 [==============================] - 1s 63us/sample - loss: 0.3589 - accuracy: 0.8476\n",
      "Epoch 63/100\n",
      "8000/8000 [==============================] - 1s 66us/sample - loss: 0.3592 - accuracy: 0.8489\n",
      "Epoch 64/100\n",
      "8000/8000 [==============================] - 0s 54us/sample - loss: 0.3584 - accuracy: 0.8491\n",
      "Epoch 65/100\n",
      "8000/8000 [==============================] - 0s 57us/sample - loss: 0.3582 - accuracy: 0.8479\n",
      "Epoch 66/100\n",
      "8000/8000 [==============================] - 1s 66us/sample - loss: 0.3581 - accuracy: 0.8472\n",
      "Epoch 67/100\n",
      "8000/8000 [==============================] - 0s 42us/sample - loss: 0.3579 - accuracy: 0.8491\n",
      "Epoch 68/100\n",
      "8000/8000 [==============================] - 0s 56us/sample - loss: 0.3572 - accuracy: 0.8491\n",
      "Epoch 69/100\n",
      "8000/8000 [==============================] - 0s 51us/sample - loss: 0.3575 - accuracy: 0.8494\n",
      "Epoch 70/100\n",
      "8000/8000 [==============================] - 1s 63us/sample - loss: 0.3569 - accuracy: 0.8499\n",
      "Epoch 71/100\n",
      "8000/8000 [==============================] - 1s 67us/sample - loss: 0.3569 - accuracy: 0.8494\n",
      "Epoch 72/100\n",
      "8000/8000 [==============================] - 0s 48us/sample - loss: 0.3561 - accuracy: 0.8496\n",
      "Epoch 73/100\n",
      "8000/8000 [==============================] - 0s 49us/sample - loss: 0.3563 - accuracy: 0.8495\n",
      "Epoch 74/100\n",
      "8000/8000 [==============================] - 1s 65us/sample - loss: 0.3563 - accuracy: 0.8495\n",
      "Epoch 75/100\n",
      "8000/8000 [==============================] - 1s 63us/sample - loss: 0.3560 - accuracy: 0.8499\n",
      "Epoch 76/100\n",
      "8000/8000 [==============================] - 0s 58us/sample - loss: 0.3559 - accuracy: 0.8496\n",
      "Epoch 77/100\n"
     ]
    },
    {
     "name": "stdout",
     "output_type": "stream",
     "text": [
      "8000/8000 [==============================] - 0s 57us/sample - loss: 0.3559 - accuracy: 0.8510\n",
      "Epoch 78/100\n",
      "8000/8000 [==============================] - 1s 74us/sample - loss: 0.3553 - accuracy: 0.8486\n",
      "Epoch 79/100\n",
      "8000/8000 [==============================] - 1s 75us/sample - loss: 0.3554 - accuracy: 0.8496\n",
      "Epoch 80/100\n",
      "8000/8000 [==============================] - 0s 61us/sample - loss: 0.3548 - accuracy: 0.8509\n",
      "Epoch 81/100\n",
      "8000/8000 [==============================] - 1s 85us/sample - loss: 0.3547 - accuracy: 0.8509\n",
      "Epoch 82/100\n",
      "8000/8000 [==============================] - 1s 87us/sample - loss: 0.3544 - accuracy: 0.8509\n",
      "Epoch 83/100\n",
      "8000/8000 [==============================] - 0s 56us/sample - loss: 0.3545 - accuracy: 0.8501\n",
      "Epoch 84/100\n",
      "8000/8000 [==============================] - 1s 63us/sample - loss: 0.3545 - accuracy: 0.8514\n",
      "Epoch 85/100\n",
      "8000/8000 [==============================] - 1s 70us/sample - loss: 0.3541 - accuracy: 0.8512\n",
      "Epoch 86/100\n",
      "8000/8000 [==============================] - 1s 66us/sample - loss: 0.3537 - accuracy: 0.8522\n",
      "Epoch 87/100\n",
      "8000/8000 [==============================] - 0s 60us/sample - loss: 0.3537 - accuracy: 0.8529\n",
      "Epoch 88/100\n",
      "8000/8000 [==============================] - 0s 44us/sample - loss: 0.3541 - accuracy: 0.8506\n",
      "Epoch 89/100\n",
      "8000/8000 [==============================] - 0s 51us/sample - loss: 0.3529 - accuracy: 0.8522\n",
      "Epoch 90/100\n",
      "8000/8000 [==============================] - 0s 54us/sample - loss: 0.3530 - accuracy: 0.8518\n",
      "Epoch 91/100\n",
      "8000/8000 [==============================] - 0s 55us/sample - loss: 0.3530 - accuracy: 0.8529\n",
      "Epoch 92/100\n",
      "8000/8000 [==============================] - 0s 54us/sample - loss: 0.3531 - accuracy: 0.8528\n",
      "Epoch 93/100\n",
      "8000/8000 [==============================] - 0s 50us/sample - loss: 0.3528 - accuracy: 0.8520\n",
      "Epoch 94/100\n",
      "8000/8000 [==============================] - 1s 71us/sample - loss: 0.3523 - accuracy: 0.8533\n",
      "Epoch 95/100\n",
      "8000/8000 [==============================] - 1s 83us/sample - loss: 0.3527 - accuracy: 0.8524\n",
      "Epoch 96/100\n",
      "8000/8000 [==============================] - 1s 65us/sample - loss: 0.3519 - accuracy: 0.8529\n",
      "Epoch 97/100\n",
      "8000/8000 [==============================] - 1s 79us/sample - loss: 0.3521 - accuracy: 0.8535\n",
      "Epoch 98/100\n",
      "8000/8000 [==============================] - 1s 68us/sample - loss: 0.3520 - accuracy: 0.8531\n",
      "Epoch 99/100\n",
      "8000/8000 [==============================] - 0s 60us/sample - loss: 0.3520 - accuracy: 0.8537\n",
      "Epoch 100/100\n",
      "8000/8000 [==============================] - 0s 47us/sample - loss: 0.3516 - accuracy: 0.8521\n"
     ]
    },
    {
     "data": {
      "text/plain": [
       "<tensorflow.python.keras.callbacks.History at 0x7fb8080d7320>"
      ]
     },
     "execution_count": 19,
     "metadata": {},
     "output_type": "execute_result"
    }
   ],
   "source": [
    "# Training the ANN on Training set\n",
    "ann.fit(X_train, y_train, batch_size = 32, epochs = 100)"
   ]
  },
  {
   "cell_type": "markdown",
   "metadata": {
    "colab_type": "text",
    "id": "tJj5k2MxZga3"
   },
   "source": [
    "### Making the predictions and evaluating the model"
   ]
  },
  {
   "cell_type": "code",
   "execution_count": 20,
   "metadata": {
    "colab": {
     "base_uri": "https://localhost:8080/",
     "height": 137
    },
    "colab_type": "code",
    "id": "nIyEeQdRZwgs",
    "outputId": "82330ba8-9bdc-4fd1-d3cf-b6d78ee7c2a3"
   },
   "outputs": [
    {
     "name": "stdout",
     "output_type": "stream",
     "text": [
      "[[0 0]\n",
      " [0 1]\n",
      " [0 0]\n",
      " ...\n",
      " [0 0]\n",
      " [0 0]\n",
      " [0 0]]\n"
     ]
    }
   ],
   "source": [
    "# Predicting results for Test set\n",
    "y_pred = ann.predict(X_test)\n",
    "y_pred = (y_pred > 0.5)\n",
    "print(np.concatenate((y_pred.reshape(len(y_pred),1), y_test.reshape(len(y_test),1)),1))"
   ]
  },
  {
   "cell_type": "markdown",
   "metadata": {
    "colab_type": "text",
    "id": "o0oyfLWoaEGw"
   },
   "source": [
    "###  The Confusion Matrix"
   ]
  },
  {
   "cell_type": "code",
   "execution_count": 21,
   "metadata": {
    "colab": {
     "base_uri": "https://localhost:8080/",
     "height": 68
    },
    "colab_type": "code",
    "id": "ci6K_r6LaF6P",
    "outputId": "4d854e9e-22d5-432f-f6e5-a102fe3ae0bd"
   },
   "outputs": [
    {
     "name": "stdout",
     "output_type": "stream",
     "text": [
      "[[1507   88]\n",
      " [ 212  193]]\n"
     ]
    },
    {
     "data": {
      "text/plain": [
       "0.85"
      ]
     },
     "execution_count": 21,
     "metadata": {},
     "output_type": "execute_result"
    }
   ],
   "source": [
    "from sklearn.metrics import confusion_matrix, accuracy_score\n",
    "cm = confusion_matrix(y_test, y_pred)\n",
    "print(cm)\n",
    "accuracy_score(y_test, y_pred)"
   ]
  },
  {
   "cell_type": "code",
   "execution_count": 22,
   "metadata": {},
   "outputs": [
    {
     "name": "stdout",
     "output_type": "stream",
     "text": [
      "2000/2000 [==============================] - 0s 87us/sample - loss: 0.3561 - accuracy: 0.8500\n"
     ]
    }
   ],
   "source": [
    "test_loss, test_accuracy = ann.evaluate(X_test, y_test)"
   ]
  },
  {
   "cell_type": "code",
   "execution_count": 23,
   "metadata": {},
   "outputs": [
    {
     "name": "stdout",
     "output_type": "stream",
     "text": [
      "\n",
      "Test loss: 0.36. Test accuracy: 85.00%\n"
     ]
    }
   ],
   "source": [
    "print('\\nTest loss: {0:.2f}. Test accuracy: {1:.2f}%'.format(test_loss, test_accuracy*100.))"
   ]
  },
  {
   "cell_type": "markdown",
   "metadata": {},
   "source": [
    "## Building an ANN now with a balanced dataset and early stopping for the ANN training "
   ]
  },
  {
   "cell_type": "code",
   "execution_count": 24,
   "metadata": {},
   "outputs": [],
   "source": [
    "import numpy as np\n",
    "import pandas as pd\n",
    "import tensorflow as tf\n",
    "from tensorflow import keras\n",
    "from tensorflow.keras import layers"
   ]
  },
  {
   "cell_type": "code",
   "execution_count": 25,
   "metadata": {},
   "outputs": [
    {
     "data": {
      "text/html": [
       "<div>\n",
       "<style scoped>\n",
       "    .dataframe tbody tr th:only-of-type {\n",
       "        vertical-align: middle;\n",
       "    }\n",
       "\n",
       "    .dataframe tbody tr th {\n",
       "        vertical-align: top;\n",
       "    }\n",
       "\n",
       "    .dataframe thead th {\n",
       "        text-align: right;\n",
       "    }\n",
       "</style>\n",
       "<table border=\"1\" class=\"dataframe\">\n",
       "  <thead>\n",
       "    <tr style=\"text-align: right;\">\n",
       "      <th></th>\n",
       "      <th>RowNumber</th>\n",
       "      <th>CustomerId</th>\n",
       "      <th>Surname</th>\n",
       "      <th>CreditScore</th>\n",
       "      <th>Geography</th>\n",
       "      <th>Gender</th>\n",
       "      <th>Age</th>\n",
       "      <th>Tenure</th>\n",
       "      <th>Balance</th>\n",
       "      <th>NumOfProducts</th>\n",
       "      <th>HasCrCard</th>\n",
       "      <th>IsActiveMember</th>\n",
       "      <th>EstimatedSalary</th>\n",
       "      <th>Exited</th>\n",
       "    </tr>\n",
       "  </thead>\n",
       "  <tbody>\n",
       "    <tr>\n",
       "      <th>0</th>\n",
       "      <td>1</td>\n",
       "      <td>15634602</td>\n",
       "      <td>Hargrave</td>\n",
       "      <td>619</td>\n",
       "      <td>France</td>\n",
       "      <td>Female</td>\n",
       "      <td>42</td>\n",
       "      <td>2</td>\n",
       "      <td>0.00</td>\n",
       "      <td>1</td>\n",
       "      <td>1</td>\n",
       "      <td>1</td>\n",
       "      <td>101348.88</td>\n",
       "      <td>1</td>\n",
       "    </tr>\n",
       "    <tr>\n",
       "      <th>1</th>\n",
       "      <td>2</td>\n",
       "      <td>15647311</td>\n",
       "      <td>Hill</td>\n",
       "      <td>608</td>\n",
       "      <td>Spain</td>\n",
       "      <td>Female</td>\n",
       "      <td>41</td>\n",
       "      <td>1</td>\n",
       "      <td>83807.86</td>\n",
       "      <td>1</td>\n",
       "      <td>0</td>\n",
       "      <td>1</td>\n",
       "      <td>112542.58</td>\n",
       "      <td>0</td>\n",
       "    </tr>\n",
       "    <tr>\n",
       "      <th>2</th>\n",
       "      <td>3</td>\n",
       "      <td>15619304</td>\n",
       "      <td>Onio</td>\n",
       "      <td>502</td>\n",
       "      <td>France</td>\n",
       "      <td>Female</td>\n",
       "      <td>42</td>\n",
       "      <td>8</td>\n",
       "      <td>159660.80</td>\n",
       "      <td>3</td>\n",
       "      <td>1</td>\n",
       "      <td>0</td>\n",
       "      <td>113931.57</td>\n",
       "      <td>1</td>\n",
       "    </tr>\n",
       "    <tr>\n",
       "      <th>3</th>\n",
       "      <td>4</td>\n",
       "      <td>15701354</td>\n",
       "      <td>Boni</td>\n",
       "      <td>699</td>\n",
       "      <td>France</td>\n",
       "      <td>Female</td>\n",
       "      <td>39</td>\n",
       "      <td>1</td>\n",
       "      <td>0.00</td>\n",
       "      <td>2</td>\n",
       "      <td>0</td>\n",
       "      <td>0</td>\n",
       "      <td>93826.63</td>\n",
       "      <td>0</td>\n",
       "    </tr>\n",
       "    <tr>\n",
       "      <th>4</th>\n",
       "      <td>5</td>\n",
       "      <td>15737888</td>\n",
       "      <td>Mitchell</td>\n",
       "      <td>850</td>\n",
       "      <td>Spain</td>\n",
       "      <td>Female</td>\n",
       "      <td>43</td>\n",
       "      <td>2</td>\n",
       "      <td>125510.82</td>\n",
       "      <td>1</td>\n",
       "      <td>1</td>\n",
       "      <td>1</td>\n",
       "      <td>79084.10</td>\n",
       "      <td>0</td>\n",
       "    </tr>\n",
       "  </tbody>\n",
       "</table>\n",
       "</div>"
      ],
      "text/plain": [
       "   RowNumber  CustomerId   Surname  CreditScore Geography  Gender  Age  \\\n",
       "0          1    15634602  Hargrave          619    France  Female   42   \n",
       "1          2    15647311      Hill          608     Spain  Female   41   \n",
       "2          3    15619304      Onio          502    France  Female   42   \n",
       "3          4    15701354      Boni          699    France  Female   39   \n",
       "4          5    15737888  Mitchell          850     Spain  Female   43   \n",
       "\n",
       "   Tenure    Balance  NumOfProducts  HasCrCard  IsActiveMember  \\\n",
       "0       2       0.00              1          1               1   \n",
       "1       1   83807.86              1          0               1   \n",
       "2       8  159660.80              3          1               0   \n",
       "3       1       0.00              2          0               0   \n",
       "4       2  125510.82              1          1               1   \n",
       "\n",
       "   EstimatedSalary  Exited  \n",
       "0        101348.88       1  \n",
       "1        112542.58       0  \n",
       "2        113931.57       1  \n",
       "3         93826.63       0  \n",
       "4         79084.10       0  "
      ]
     },
     "execution_count": 25,
     "metadata": {},
     "output_type": "execute_result"
    }
   ],
   "source": [
    "#Data preprocessing\n",
    "dataset = pd.read_csv('Churn_Modelling.csv')\n",
    "dataset.head()"
   ]
  },
  {
   "cell_type": "code",
   "execution_count": 26,
   "metadata": {},
   "outputs": [],
   "source": [
    "X = dataset.iloc[:, 3:-1].values\n",
    "y = dataset.iloc[:, -1].values"
   ]
  },
  {
   "cell_type": "code",
   "execution_count": 27,
   "metadata": {},
   "outputs": [],
   "source": [
    "# Encoding categorical data\n",
    "# Label Encoding the \"Gender\" column \n",
    "from sklearn.preprocessing import LabelEncoder\n",
    "le = LabelEncoder()\n",
    "X[:, 2] = le.fit_transform(X[:, 2])  #gender column "
   ]
  },
  {
   "cell_type": "code",
   "execution_count": 28,
   "metadata": {},
   "outputs": [],
   "source": [
    "# One Hot Encoding the \"Geography\" column\n",
    "from sklearn.compose import ColumnTransformer\n",
    "from sklearn.preprocessing import OneHotEncoder\n",
    "ct = ColumnTransformer(transformers=[('encoder', OneHotEncoder(), [1])], remainder='passthrough')\n",
    "X = np.array(ct.fit_transform(X))"
   ]
  },
  {
   "cell_type": "markdown",
   "metadata": {},
   "source": [
    "### Balancing dataset"
   ]
  },
  {
   "cell_type": "code",
   "execution_count": 29,
   "metadata": {},
   "outputs": [],
   "source": [
    "#Balancing dataset\n",
    "\n",
    "unscaled_inputs_all = X\n",
    "targets_all = y\n",
    "\n",
    "\n",
    "num_one_targets = int(np.sum(targets_all))\n",
    "zero_targets_counter = 0\n",
    "indices_to_remove = []\n",
    "\n",
    "for i in range(targets_all.shape[0]):\n",
    "    if targets_all[i] ==0:\n",
    "        zero_targets_counter += 1\n",
    "        if zero_targets_counter > num_one_targets:\n",
    "            indices_to_remove.append(i)\n",
    "        \n",
    "unscaled_inputs_equal_priors = np.delete(unscaled_inputs_all, indices_to_remove, axis=0)\n",
    "targets_equal_priors = np.delete(targets_all, indices_to_remove,axis=0)"
   ]
  },
  {
   "cell_type": "markdown",
   "metadata": {},
   "source": [
    "### Shuffling the dataset"
   ]
  },
  {
   "cell_type": "code",
   "execution_count": 30,
   "metadata": {},
   "outputs": [],
   "source": [
    "#shuffle dataset\n",
    "\n",
    "shuffled_indices = np.arange(unscaled_inputs_equal_priors.shape[0])\n",
    "np.random.shuffle(shuffled_indices)\n",
    "\n",
    "shuffled_inputs = unscaled_inputs_equal_priors[shuffled_indices]\n",
    "shuffled_targets = targets_equal_priors[shuffled_indices]"
   ]
  },
  {
   "cell_type": "markdown",
   "metadata": {},
   "source": [
    "### Scaling inputs"
   ]
  },
  {
   "cell_type": "code",
   "execution_count": 31,
   "metadata": {},
   "outputs": [],
   "source": [
    "from sklearn import preprocessing\n",
    "X = preprocessing.scale(shuffled_inputs)\n",
    "y = shuffled_targets"
   ]
  },
  {
   "cell_type": "code",
   "execution_count": 32,
   "metadata": {},
   "outputs": [
    {
     "data": {
      "text/plain": [
       "((4074, 12), (4074,))"
      ]
     },
     "execution_count": 32,
     "metadata": {},
     "output_type": "execute_result"
    }
   ],
   "source": [
    "X.shape, y.shape"
   ]
  },
  {
   "cell_type": "code",
   "execution_count": 33,
   "metadata": {},
   "outputs": [
    {
     "data": {
      "text/plain": [
       "array([[ 1.10023921, -0.67145715, -0.55712583, ...,  0.64807945,\n",
       "         1.07975424,  0.05399694],\n",
       "       [-0.90889326, -0.67145715,  1.79492664, ...,  0.64807945,\n",
       "         1.07975424, -0.46926781],\n",
       "       [-0.90889326, -0.67145715,  1.79492664, ..., -1.54302069,\n",
       "        -0.92613667, -0.51757025],\n",
       "       ...,\n",
       "       [-0.90889326, -0.67145715,  1.79492664, ...,  0.64807945,\n",
       "        -0.92613667,  1.48845067],\n",
       "       [-0.90889326,  1.48929832, -0.55712583, ...,  0.64807945,\n",
       "        -0.92613667,  1.14264484],\n",
       "       [ 1.10023921, -0.67145715, -0.55712583, ...,  0.64807945,\n",
       "         1.07975424,  1.19595601]])"
      ]
     },
     "execution_count": 33,
     "metadata": {},
     "output_type": "execute_result"
    }
   ],
   "source": [
    "X"
   ]
  },
  {
   "cell_type": "markdown",
   "metadata": {},
   "source": [
    "### Splitting dataset into the Training set, Test set and Validation set"
   ]
  },
  {
   "cell_type": "code",
   "execution_count": 34,
   "metadata": {},
   "outputs": [],
   "source": [
    "#Splitting into train, validation and test\n",
    "\n",
    "samples_count = X.shape[0]\n",
    "\n",
    "train_samples_count = int(0.8*samples_count)\n",
    "validation_samples_count = int(0.1*samples_count)\n",
    "test_samples_count = samples_count - train_samples_count - validation_samples_count\n"
   ]
  },
  {
   "cell_type": "code",
   "execution_count": 35,
   "metadata": {},
   "outputs": [],
   "source": [
    "train_inputs = X[:train_samples_count]\n",
    "train_targets = y[:train_samples_count]\n",
    "\n",
    "validation_inputs = X[train_samples_count:train_samples_count+validation_samples_count]\n",
    "validation_targets = y[train_samples_count:train_samples_count+validation_samples_count]\n",
    "\n",
    "test_inputs = X[train_samples_count+validation_samples_count:]\n",
    "test_targets = y[train_samples_count+validation_samples_count:]"
   ]
  },
  {
   "cell_type": "markdown",
   "metadata": {},
   "source": [
    "### Building and training the ANN"
   ]
  },
  {
   "cell_type": "code",
   "execution_count": 36,
   "metadata": {},
   "outputs": [
    {
     "name": "stdout",
     "output_type": "stream",
     "text": [
      "Train on 3259 samples, validate on 407 samples\n",
      "Epoch 1/100\n",
      "3259/3259 - 1s - loss: 0.6769 - accuracy: 0.5683 - val_loss: 0.6620 - val_accuracy: 0.6265\n",
      "Epoch 2/100\n",
      "3259/3259 - 0s - loss: 0.6433 - accuracy: 0.6490 - val_loss: 0.6400 - val_accuracy: 0.6388\n",
      "Epoch 3/100\n",
      "3259/3259 - 0s - loss: 0.6178 - accuracy: 0.6729 - val_loss: 0.6265 - val_accuracy: 0.6437\n",
      "Epoch 4/100\n",
      "3259/3259 - 0s - loss: 0.6017 - accuracy: 0.6873 - val_loss: 0.6196 - val_accuracy: 0.6536\n",
      "Epoch 5/100\n",
      "3259/3259 - 0s - loss: 0.5921 - accuracy: 0.6953 - val_loss: 0.6157 - val_accuracy: 0.6536\n",
      "Epoch 6/100\n",
      "3259/3259 - 0s - loss: 0.5860 - accuracy: 0.7014 - val_loss: 0.6132 - val_accuracy: 0.6609\n",
      "Epoch 7/100\n",
      "3259/3259 - 0s - loss: 0.5819 - accuracy: 0.7064 - val_loss: 0.6108 - val_accuracy: 0.6683\n",
      "Epoch 8/100\n",
      "3259/3259 - 0s - loss: 0.5794 - accuracy: 0.7076 - val_loss: 0.6083 - val_accuracy: 0.6757\n",
      "Epoch 9/100\n",
      "3259/3259 - 0s - loss: 0.5773 - accuracy: 0.7094 - val_loss: 0.6068 - val_accuracy: 0.6757\n",
      "Epoch 10/100\n",
      "3259/3259 - 1s - loss: 0.5759 - accuracy: 0.7110 - val_loss: 0.6055 - val_accuracy: 0.6732\n",
      "Epoch 11/100\n",
      "3259/3259 - 0s - loss: 0.5749 - accuracy: 0.7156 - val_loss: 0.6043 - val_accuracy: 0.6708\n",
      "Epoch 12/100\n",
      "3259/3259 - 0s - loss: 0.5735 - accuracy: 0.7165 - val_loss: 0.6041 - val_accuracy: 0.6732\n",
      "Epoch 13/100\n",
      "3259/3259 - 1s - loss: 0.5722 - accuracy: 0.7168 - val_loss: 0.6032 - val_accuracy: 0.6757\n",
      "Epoch 14/100\n",
      "3259/3259 - 1s - loss: 0.5713 - accuracy: 0.7162 - val_loss: 0.6020 - val_accuracy: 0.6781\n",
      "Epoch 15/100\n",
      "3259/3259 - 0s - loss: 0.5701 - accuracy: 0.7174 - val_loss: 0.6020 - val_accuracy: 0.6806\n",
      "Epoch 16/100\n",
      "3259/3259 - 0s - loss: 0.5694 - accuracy: 0.7165 - val_loss: 0.6017 - val_accuracy: 0.6806\n",
      "Epoch 17/100\n",
      "3259/3259 - 0s - loss: 0.5686 - accuracy: 0.7143 - val_loss: 0.5993 - val_accuracy: 0.6830\n",
      "Epoch 18/100\n",
      "3259/3259 - 0s - loss: 0.5673 - accuracy: 0.7174 - val_loss: 0.5983 - val_accuracy: 0.6880\n",
      "Epoch 19/100\n",
      "3259/3259 - 0s - loss: 0.5660 - accuracy: 0.7159 - val_loss: 0.5980 - val_accuracy: 0.6880\n",
      "Epoch 20/100\n",
      "3259/3259 - 0s - loss: 0.5647 - accuracy: 0.7137 - val_loss: 0.5967 - val_accuracy: 0.6904\n",
      "Epoch 21/100\n",
      "3259/3259 - 0s - loss: 0.5638 - accuracy: 0.7159 - val_loss: 0.5953 - val_accuracy: 0.6929\n",
      "Epoch 22/100\n",
      "3259/3259 - 0s - loss: 0.5625 - accuracy: 0.7165 - val_loss: 0.5926 - val_accuracy: 0.6953\n",
      "Epoch 23/100\n",
      "3259/3259 - 0s - loss: 0.5614 - accuracy: 0.7195 - val_loss: 0.5931 - val_accuracy: 0.6953\n",
      "Epoch 24/100\n",
      "3259/3259 - 0s - loss: 0.5602 - accuracy: 0.7189 - val_loss: 0.5907 - val_accuracy: 0.6978\n",
      "Epoch 25/100\n",
      "3259/3259 - 0s - loss: 0.5586 - accuracy: 0.7186 - val_loss: 0.5893 - val_accuracy: 0.7002\n",
      "Epoch 26/100\n",
      "3259/3259 - 0s - loss: 0.5573 - accuracy: 0.7214 - val_loss: 0.5885 - val_accuracy: 0.7002\n",
      "Epoch 27/100\n",
      "3259/3259 - 0s - loss: 0.5560 - accuracy: 0.7223 - val_loss: 0.5868 - val_accuracy: 0.7052\n",
      "Epoch 28/100\n",
      "3259/3259 - 0s - loss: 0.5549 - accuracy: 0.7223 - val_loss: 0.5854 - val_accuracy: 0.7052\n",
      "Epoch 29/100\n",
      "3259/3259 - 0s - loss: 0.5535 - accuracy: 0.7272 - val_loss: 0.5849 - val_accuracy: 0.7027\n",
      "Epoch 30/100\n",
      "3259/3259 - 0s - loss: 0.5522 - accuracy: 0.7257 - val_loss: 0.5833 - val_accuracy: 0.7027\n",
      "Epoch 31/100\n",
      "3259/3259 - 0s - loss: 0.5508 - accuracy: 0.7278 - val_loss: 0.5818 - val_accuracy: 0.7076\n",
      "Epoch 32/100\n",
      "3259/3259 - 0s - loss: 0.5487 - accuracy: 0.7284 - val_loss: 0.5800 - val_accuracy: 0.7052\n",
      "Epoch 33/100\n",
      "3259/3259 - 0s - loss: 0.5475 - accuracy: 0.7263 - val_loss: 0.5776 - val_accuracy: 0.7052\n",
      "Epoch 34/100\n",
      "3259/3259 - 0s - loss: 0.5452 - accuracy: 0.7297 - val_loss: 0.5754 - val_accuracy: 0.7101\n",
      "Epoch 35/100\n",
      "3259/3259 - 0s - loss: 0.5432 - accuracy: 0.7306 - val_loss: 0.5734 - val_accuracy: 0.7076\n",
      "Epoch 36/100\n",
      "3259/3259 - 0s - loss: 0.5408 - accuracy: 0.7312 - val_loss: 0.5706 - val_accuracy: 0.7101\n",
      "Epoch 37/100\n",
      "3259/3259 - 0s - loss: 0.5379 - accuracy: 0.7318 - val_loss: 0.5667 - val_accuracy: 0.7101\n",
      "Epoch 38/100\n",
      "3259/3259 - 0s - loss: 0.5354 - accuracy: 0.7343 - val_loss: 0.5644 - val_accuracy: 0.7150\n",
      "Epoch 39/100\n",
      "3259/3259 - 0s - loss: 0.5321 - accuracy: 0.7358 - val_loss: 0.5612 - val_accuracy: 0.7199\n",
      "Epoch 40/100\n",
      "3259/3259 - 0s - loss: 0.5282 - accuracy: 0.7389 - val_loss: 0.5567 - val_accuracy: 0.7248\n",
      "Epoch 41/100\n",
      "3259/3259 - 0s - loss: 0.5239 - accuracy: 0.7426 - val_loss: 0.5527 - val_accuracy: 0.7248\n",
      "Epoch 42/100\n",
      "3259/3259 - 0s - loss: 0.5186 - accuracy: 0.7450 - val_loss: 0.5476 - val_accuracy: 0.7248\n",
      "Epoch 43/100\n",
      "3259/3259 - 0s - loss: 0.5138 - accuracy: 0.7478 - val_loss: 0.5443 - val_accuracy: 0.7150\n",
      "Epoch 44/100\n",
      "3259/3259 - 0s - loss: 0.5091 - accuracy: 0.7512 - val_loss: 0.5398 - val_accuracy: 0.7273\n",
      "Epoch 45/100\n",
      "3259/3259 - 0s - loss: 0.5046 - accuracy: 0.7530 - val_loss: 0.5355 - val_accuracy: 0.7273\n",
      "Epoch 46/100\n",
      "3259/3259 - 0s - loss: 0.4996 - accuracy: 0.7542 - val_loss: 0.5311 - val_accuracy: 0.7248\n",
      "Epoch 47/100\n",
      "3259/3259 - 0s - loss: 0.4953 - accuracy: 0.7567 - val_loss: 0.5271 - val_accuracy: 0.7371\n",
      "Epoch 48/100\n",
      "3259/3259 - 0s - loss: 0.4913 - accuracy: 0.7573 - val_loss: 0.5225 - val_accuracy: 0.7371\n",
      "Epoch 49/100\n",
      "3259/3259 - 0s - loss: 0.4878 - accuracy: 0.7585 - val_loss: 0.5194 - val_accuracy: 0.7297\n",
      "Epoch 50/100\n",
      "3259/3259 - 0s - loss: 0.4852 - accuracy: 0.7613 - val_loss: 0.5156 - val_accuracy: 0.7420\n",
      "Epoch 51/100\n",
      "3259/3259 - 0s - loss: 0.4823 - accuracy: 0.7597 - val_loss: 0.5140 - val_accuracy: 0.7445\n",
      "Epoch 52/100\n",
      "3259/3259 - 0s - loss: 0.4807 - accuracy: 0.7607 - val_loss: 0.5114 - val_accuracy: 0.7420\n",
      "Epoch 53/100\n",
      "3259/3259 - 0s - loss: 0.4784 - accuracy: 0.7604 - val_loss: 0.5090 - val_accuracy: 0.7396\n",
      "Epoch 54/100\n",
      "3259/3259 - 0s - loss: 0.4765 - accuracy: 0.7634 - val_loss: 0.5072 - val_accuracy: 0.7396\n",
      "Epoch 55/100\n",
      "3259/3259 - 0s - loss: 0.4746 - accuracy: 0.7650 - val_loss: 0.5067 - val_accuracy: 0.7396\n",
      "Epoch 56/100\n",
      "3259/3259 - 0s - loss: 0.4726 - accuracy: 0.7631 - val_loss: 0.5042 - val_accuracy: 0.7420\n",
      "Epoch 57/100\n",
      "3259/3259 - 0s - loss: 0.4719 - accuracy: 0.7622 - val_loss: 0.5014 - val_accuracy: 0.7445\n",
      "Epoch 58/100\n",
      "3259/3259 - 0s - loss: 0.4698 - accuracy: 0.7643 - val_loss: 0.5009 - val_accuracy: 0.7396\n",
      "Epoch 59/100\n",
      "3259/3259 - 0s - loss: 0.4690 - accuracy: 0.7643 - val_loss: 0.4988 - val_accuracy: 0.7420\n",
      "Epoch 60/100\n",
      "3259/3259 - 0s - loss: 0.4673 - accuracy: 0.7677 - val_loss: 0.4980 - val_accuracy: 0.7445\n",
      "Epoch 61/100\n",
      "3259/3259 - 0s - loss: 0.4664 - accuracy: 0.7705 - val_loss: 0.4979 - val_accuracy: 0.7445\n",
      "Epoch 62/100\n",
      "3259/3259 - 0s - loss: 0.4657 - accuracy: 0.7686 - val_loss: 0.4972 - val_accuracy: 0.7469\n",
      "Epoch 63/100\n",
      "3259/3259 - 0s - loss: 0.4653 - accuracy: 0.7717 - val_loss: 0.4960 - val_accuracy: 0.7445\n",
      "Epoch 64/100\n",
      "3259/3259 - 0s - loss: 0.4647 - accuracy: 0.7714 - val_loss: 0.4956 - val_accuracy: 0.7420\n",
      "Epoch 65/100\n",
      "3259/3259 - 0s - loss: 0.4637 - accuracy: 0.7711 - val_loss: 0.4927 - val_accuracy: 0.7494\n",
      "Epoch 66/100\n",
      "3259/3259 - 0s - loss: 0.4632 - accuracy: 0.7705 - val_loss: 0.4943 - val_accuracy: 0.7469\n",
      "Epoch 67/100\n",
      "3259/3259 - 0s - loss: 0.4630 - accuracy: 0.7689 - val_loss: 0.4946 - val_accuracy: 0.7445\n"
     ]
    },
    {
     "data": {
      "text/plain": [
       "<tensorflow.python.keras.callbacks.History at 0x7fb80a0f7828>"
      ]
     },
     "execution_count": 36,
     "metadata": {},
     "output_type": "execute_result"
    }
   ],
   "source": [
    "input_size = 6\n",
    "output_size = 1\n",
    "hidden_layer_size = 6\n",
    "    \n",
    "model = tf.keras.Sequential([\n",
    "    tf.keras.layers.Dense(hidden_layer_size, activation='relu'), # 1st hidden layer\n",
    "    tf.keras.layers.Dense(hidden_layer_size, activation='relu'), # 2nd hidden layer\n",
    "    tf.keras.layers.Dense(output_size, activation='sigmoid') # output layer\n",
    "])\n",
    "\n",
    "\n",
    "model.compile(optimizer='adam', loss='binary_crossentropy', metrics=['accuracy'])\n",
    "\n",
    "batch_size = 32\n",
    "max_epochs = 100\n",
    "\n",
    "# setting an early stopping mechanism\n",
    "# let's set patience=2, to be a bit tolerant against random validation loss increases\n",
    "early_stopping = tf.keras.callbacks.EarlyStopping(patience=2)\n",
    "\n",
    "model.fit(train_inputs, \n",
    "          train_targets, \n",
    "          batch_size=batch_size, \n",
    "          epochs=max_epochs,\n",
    "          callbacks=[early_stopping], \n",
    "          validation_data=(validation_inputs, validation_targets),\n",
    "          verbose = 2 \n",
    "          )  "
   ]
  },
  {
   "cell_type": "markdown",
   "metadata": {},
   "source": [
    "loss: 0.4440 - accuracy: 0.7849 - val_loss: 0.4492 - val_accuracy: 0.7985"
   ]
  },
  {
   "cell_type": "markdown",
   "metadata": {},
   "source": [
    "### Testing and evaluating the model"
   ]
  },
  {
   "cell_type": "code",
   "execution_count": 37,
   "metadata": {},
   "outputs": [
    {
     "name": "stdout",
     "output_type": "stream",
     "text": [
      "408/408 [==============================] - 0s 48us/sample - loss: 0.4403 - accuracy: 0.7721\n"
     ]
    }
   ],
   "source": [
    "test_loss, test_accuracy = model.evaluate(test_inputs, test_targets)"
   ]
  },
  {
   "cell_type": "code",
   "execution_count": 38,
   "metadata": {},
   "outputs": [
    {
     "name": "stdout",
     "output_type": "stream",
     "text": [
      "\n",
      "Test loss: 0.44. Test accuracy: 77.21%\n"
     ]
    }
   ],
   "source": [
    "print('\\nTest loss: {0:.2f}. Test accuracy: {1:.2f}%'.format(test_loss, test_accuracy*100.))"
   ]
  },
  {
   "cell_type": "code",
   "execution_count": null,
   "metadata": {},
   "outputs": [],
   "source": []
  }
 ],
 "metadata": {
  "colab": {
   "collapsed_sections": [],
   "name": "artificial_neural_network.ipynb",
   "provenance": [],
   "toc_visible": true
  },
  "kernelspec": {
   "display_name": "Python 3",
   "language": "python",
   "name": "python3"
  },
  "language_info": {
   "codemirror_mode": {
    "name": "ipython",
    "version": 3
   },
   "file_extension": ".py",
   "mimetype": "text/x-python",
   "name": "python",
   "nbconvert_exporter": "python",
   "pygments_lexer": "ipython3",
   "version": "3.6.10"
  }
 },
 "nbformat": 4,
 "nbformat_minor": 1
}
